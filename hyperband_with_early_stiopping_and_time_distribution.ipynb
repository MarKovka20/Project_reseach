{
 "cells": [
  {
   "cell_type": "code",
   "execution_count": null,
   "metadata": {},
   "outputs": [],
   "source": []
  },
  {
   "cell_type": "code",
   "execution_count": 3,
   "metadata": {},
   "outputs": [],
   "source": [
    "import json\n",
    "import os\n",
    "import numpy as np\n",
    "import pandas as pd\n",
    "import ruptures as rpt\n",
    "import time\n",
    "from tqdm import tqdm\n",
    "\n",
    "import matplotlib \n",
    "import matplotlib.pyplot as plt\n",
    "%matplotlib inline\n",
    "\n",
    "from tqdm import tqdm_notebook\n",
    "import seaborn as sns\n",
    "\n",
    "from nas_environment import Environment"
   ]
  },
  {
   "cell_type": "code",
   "execution_count": 5,
   "metadata": {},
   "outputs": [
    {
     "data": {
      "text/plain": [
       "14322"
      ]
     },
     "execution_count": 5,
     "metadata": {},
     "output_type": "execute_result"
    }
   ],
   "source": [
    "precomputed_logs_path = \"C:/Users/makov/OneDrive/Desktop/nas-bench-nlp-release/train_logs_single_run\"\n",
    "env = Environment(precomputed_logs_path)\n",
    "len(env._logs)\n",
    "\n",
    "search_set = env.get_precomputed_recepies()\n",
    "len(search_set)"
   ]
  },
  {
   "cell_type": "code",
   "execution_count": 7,
   "metadata": {},
   "outputs": [],
   "source": [
    "train_epochs = 10\n",
    "rounds = 5\n",
    "iters_per_round = 100\n",
    "env.simulated_train(search_set[1], train_epochs)"
   ]
  },
  {
   "cell_type": "code",
   "execution_count": null,
   "metadata": {},
   "outputs": [],
   "source": [
    "with open(\"results_cusum_and_peaks.json\", \"r\") as f:\n",
    "    res = json.load(f)"
   ]
  },
  {
   "cell_type": "code",
   "execution_count": 23,
   "metadata": {},
   "outputs": [],
   "source": [
    "def test(res, thr, type_ = \"first_change_point\") :  \n",
    "    all_test_losses = []\n",
    "    all_wall_times = []\n",
    "    N = iters_per_round\n",
    "    saved_epoches = 0\n",
    "    for i in tqdm(range(rounds)):\n",
    "        seed = int(time.time() * 1e7 + i) // (2**32)\n",
    "        env.reset()\n",
    "        np.random.seed(seed)\n",
    "\n",
    "        R = 50 \n",
    "        eta = 3\n",
    "        s_max = int(np.floor(np.log(R)/np.log(eta)))\n",
    "        print(\"smax\", s_max)\n",
    "        # B = (s_max + 1)*R\n",
    "        B = N*R/3.5\n",
    "\n",
    "        test_losses = []\n",
    "        wall_times = []\n",
    "\n",
    "        log_cnt = 0\n",
    "        for s in range(s_max, -1, -1):\n",
    "            n = int(np.ceil(float(B)/R * float(eta)**s/(s + 1)))\n",
    "            r = R*float(eta)**(-s)\n",
    "            T = np.random.choice(len(search_set), n+50, replace=False) # берем с запасом\n",
    "            sum_r = 0\n",
    "            for i in range(s + 1):\n",
    "                n_i = int(np.floor(n*float(eta)**(-i)))\n",
    "                r_i = int(np.floor(r*eta**i))\n",
    "                sum_r += r_i\n",
    "                L = []\n",
    "                for t in T[:n]:\n",
    "                    try:\n",
    "                        early_stopping_epoch = int(res[str(t)][thr][type_])\n",
    "                    except Exception as ex:\n",
    "                         early_stopping_epoch = 51\n",
    "                    ep = np.min([r_i, early_stopping_epoch])\n",
    "                    saved_epoches += r_i - ep # cмотрим сколько эпох сохранили из-за ранней остановки\n",
    "                    env.simulated_train(search_set[t], ep)\n",
    "                    if env.get_model_status(search_set[t]) == 'OK':\n",
    "                        L.append(env.get_model_stats(search_set[t], ep - 1)['val_loss'])\n",
    "                    else:\n",
    "                        L.append(np.inf)\n",
    "                    log_cnt += 1\n",
    "                    if log_cnt % 25 == 0:\n",
    "                        test_losses.append(env.get_test_loss_of_the_best_validated_architecture())\n",
    "                        wall_times.append(env.get_total_time())\n",
    "                k = n\n",
    "                \n",
    "                while saved_epoches > r_i: # если общее число сохраненныйх эпох Больше чем r_i\n",
    "                    #лобучаем еще модели\n",
    "                    t = T[k]\n",
    "                    try:\n",
    "                        early_stopping_epoch = int(res[str(t)][thr][type_])\n",
    "                    except Exception as ex:\n",
    "                        early_stopping_epoch = 51\n",
    "                    ep = np.min([r_i, early_stopping_epoch])\n",
    "                    env.simulated_train(search_set[t], ep)\n",
    "                    if env.get_model_status(search_set[t]) == 'OK':\n",
    "                        L.append(env.get_model_stats(search_set[t], ep - 1)['val_loss'])\n",
    "                    else:\n",
    "                        L.append(np.inf)\n",
    "                    log_cnt += 1\n",
    "                    if log_cnt % 25 == 0:\n",
    "                        test_losses.append(env.get_test_loss_of_the_best_validated_architecture())\n",
    "                        wall_times.append(env.get_total_time())\n",
    "\n",
    "                    saved_epoches -= ep \n",
    "                    k+=1\n",
    "                    \n",
    "                test_losses.append(env.get_test_loss_of_the_best_validated_architecture())\n",
    "                wall_times.append(env.get_total_time())\n",
    "\n",
    "                L = np.array(L)\n",
    "                halved_inds = np.argsort(L)[:int(np.floor(n_i/float(eta))) + 50] #опять оставляем запас\n",
    "                halved_inds = halved_inds[L[halved_inds] < np.inf]\n",
    "                T = T[halved_inds]\n",
    "            print(\"sum_r:\", sum_r, \"r:\", r)\n",
    "        all_test_losses.append(test_losses)\n",
    "        all_wall_times.append(wall_times)\n",
    "        print(s)\n",
    "    return all_test_losses, all_wall_times"
   ]
  },
  {
   "cell_type": "code",
   "execution_count": 24,
   "metadata": {},
   "outputs": [
    {
     "name": "stderr",
     "output_type": "stream",
     "text": [
      "  0%|          | 0/5 [00:00<?, ?it/s]"
     ]
    },
    {
     "name": "stdout",
     "output_type": "stream",
     "text": [
      "smax 3\n",
      "sum_r: 71 r: 1.8518518518518516\n",
      "sum_r: 71 r: 5.555555555555555\n"
     ]
    },
    {
     "name": "stderr",
     "output_type": "stream",
     "text": [
      " 20%|██        | 1/5 [00:01<00:04,  1.02s/it]"
     ]
    },
    {
     "name": "stdout",
     "output_type": "stream",
     "text": [
      "sum_r: 65 r: 16.666666666666664\n",
      "sum_r: 50 r: 50.0\n",
      "0\n",
      "smax 3\n",
      "sum_r: 71 r: 1.8518518518518516\n"
     ]
    },
    {
     "name": "stderr",
     "output_type": "stream",
     "text": [
      " 40%|████      | 2/5 [00:01<00:02,  1.05it/s]"
     ]
    },
    {
     "name": "stdout",
     "output_type": "stream",
     "text": [
      "sum_r: 71 r: 5.555555555555555\n",
      "sum_r: 65 r: 16.666666666666664\n",
      "sum_r: 50 r: 50.0\n",
      "0\n",
      "smax 3\n",
      "sum_r: 71 r: 1.8518518518518516\n"
     ]
    },
    {
     "name": "stderr",
     "output_type": "stream",
     "text": [
      " 60%|██████    | 3/5 [00:03<00:02,  1.16s/it]"
     ]
    },
    {
     "name": "stdout",
     "output_type": "stream",
     "text": [
      "sum_r: 71 r: 5.555555555555555\n",
      "sum_r: 65 r: 16.666666666666664\n",
      "sum_r: 50 r: 50.0\n",
      "0\n",
      "smax 3\n",
      "sum_r: 71 r: 1.8518518518518516\n"
     ]
    },
    {
     "name": "stderr",
     "output_type": "stream",
     "text": [
      " 80%|████████  | 4/5 [00:04<00:01,  1.14s/it]"
     ]
    },
    {
     "name": "stdout",
     "output_type": "stream",
     "text": [
      "sum_r: 71 r: 5.555555555555555\n",
      "sum_r: 65 r: 16.666666666666664\n",
      "sum_r: 50 r: 50.0\n",
      "0\n",
      "smax 3\n",
      "sum_r: 71 r: 1.8518518518518516\n"
     ]
    },
    {
     "name": "stderr",
     "output_type": "stream",
     "text": [
      "100%|██████████| 5/5 [00:05<00:00,  1.10s/it]"
     ]
    },
    {
     "name": "stdout",
     "output_type": "stream",
     "text": [
      "sum_r: 71 r: 5.555555555555555\n",
      "sum_r: 65 r: 16.666666666666664\n",
      "sum_r: 50 r: 50.0\n",
      "0\n"
     ]
    },
    {
     "name": "stderr",
     "output_type": "stream",
     "text": [
      "\n"
     ]
    }
   ],
   "source": [
    "for cusum_threshold in [0.005]:\n",
    "    all_test_losses, all_wall_times = test(res, str(cusum_threshold), \"first_change_point\")\n",
    "    alg_resutls[\"first_change_point\"][str(cusum_threshold)] = {'all_test_losses':all_test_losses, 'all_wall_times':all_wall_times}\n"
   ]
  },
  {
   "cell_type": "code",
   "execution_count": 8,
   "metadata": {},
   "outputs": [
    {
     "name": "stderr",
     "output_type": "stream",
     "text": [
      "100%|██████████| 5/5 [00:03<00:00,  1.59it/s]\n",
      "100%|██████████| 5/5 [00:03<00:00,  1.64it/s]t]\n",
      "100%|██████████| 5/5 [00:03<00:00,  1.56it/s]t]\n",
      "100%|██████████| 5/5 [00:02<00:00,  1.69it/s]t]\n",
      "100%|██████████| 5/5 [00:02<00:00,  1.73it/s]t]\n",
      "100%|██████████| 5/5 [00:03<00:00,  1.64it/s]t]\n",
      "100%|██████████| 5/5 [00:02<00:00,  1.77it/s]t]\n",
      "100%|██████████| 5/5 [00:03<00:00,  1.41it/s]t]\n",
      "100%|██████████| 5/5 [00:04<00:00,  1.20it/s]t]\n",
      "100%|██████████| 5/5 [00:02<00:00,  1.80it/s]t]\n",
      "100%|██████████| 5/5 [00:02<00:00,  1.73it/s]it]\n",
      "100%|██████████| 5/5 [00:02<00:00,  1.72it/s]it]\n",
      "100%|██████████| 5/5 [00:02<00:00,  1.91it/s]it]\n",
      "100%|██████████| 5/5 [00:02<00:00,  1.73it/s]it]\n",
      "100%|██████████| 5/5 [00:02<00:00,  1.87it/s]it]\n",
      "100%|██████████| 5/5 [00:02<00:00,  1.86it/s]it]\n",
      "100%|██████████| 5/5 [00:02<00:00,  1.95it/s]it]\n",
      "100%|██████████| 5/5 [00:02<00:00,  1.77it/s]it]\n",
      "100%|██████████| 5/5 [00:03<00:00,  1.43it/s]it]\n",
      "100%|██████████| 5/5 [00:03<00:00,  1.55it/s]it]\n",
      "100%|██████████| 5/5 [00:02<00:00,  1.70it/s]it]\n",
      "100%|██████████| 5/5 [00:02<00:00,  1.72it/s]it]\n",
      "100%|██████████| 5/5 [00:04<00:00,  1.23it/s]it]\n",
      "100%|██████████| 5/5 [00:02<00:00,  1.76it/s]it]\n",
      "100%|██████████| 5/5 [00:03<00:00,  1.47it/s]it]\n",
      "100%|██████████| 5/5 [00:03<00:00,  1.28it/s]it]\n",
      "100%|██████████| 5/5 [00:02<00:00,  1.78it/s]it]\n",
      "100%|██████████| 5/5 [00:02<00:00,  1.72it/s]it]\n",
      "100%|██████████| 5/5 [00:02<00:00,  1.72it/s]it]\n",
      "100%|██████████| 5/5 [00:02<00:00,  1.94it/s]it]\n",
      "100%|██████████| 5/5 [00:02<00:00,  1.90it/s]it]\n",
      "100%|██████████| 5/5 [00:02<00:00,  1.85it/s]it]\n",
      "100%|██████████| 5/5 [00:02<00:00,  1.88it/s]it]\n",
      "100%|██████████| 5/5 [00:02<00:00,  1.90it/s]it]\n",
      "100%|██████████| 5/5 [00:02<00:00,  1.84it/s]it]\n",
      "100%|██████████| 5/5 [00:02<00:00,  1.92it/s]it]\n",
      "100%|██████████| 5/5 [00:02<00:00,  1.97it/s]it]\n",
      "100%|██████████| 5/5 [00:02<00:00,  1.93it/s]it]\n",
      "100%|██████████| 5/5 [00:03<00:00,  1.60it/s]it]\n",
      "100%|██████████| 5/5 [00:03<00:00,  1.66it/s]it]\n",
      "100%|██████████| 5/5 [00:03<00:00,  1.64it/s]it]\n",
      "100%|██████████| 5/5 [00:02<00:00,  1.86it/s]it]\n",
      "100%|██████████| 5/5 [00:02<00:00,  1.97it/s]it]\n",
      "100%|██████████| 5/5 [00:02<00:00,  1.99it/s]it]\n",
      "100%|██████████| 5/5 [00:02<00:00,  2.00it/s]it]\n",
      "100%|██████████| 5/5 [00:02<00:00,  1.99it/s]it]\n",
      "100%|██████████| 5/5 [00:02<00:00,  1.83it/s]it]\n",
      "100%|██████████| 5/5 [00:02<00:00,  1.71it/s]it]\n",
      "100%|██████████| 5/5 [00:02<00:00,  1.86it/s]it]\n",
      "100%|██████████| 5/5 [00:02<00:00,  1.86it/s]it]\n",
      "100%|██████████| 5/5 [00:02<00:00,  1.88it/s]it]\n",
      "100%|██████████| 5/5 [00:02<00:00,  1.91it/s]it]\n",
      "100%|██████████| 5/5 [00:02<00:00,  1.85it/s]it]\n",
      "100%|██████████| 5/5 [00:02<00:00,  1.83it/s]it]\n",
      "100%|██████████| 5/5 [00:02<00:00,  1.67it/s]it]\n",
      "100%|██████████| 5/5 [00:02<00:00,  1.83it/s]it]\n",
      "100%|██████████| 5/5 [00:02<00:00,  1.86it/s]it]\n",
      "100%|██████████| 5/5 [00:03<00:00,  1.65it/s]it]\n",
      "100%|██████████| 5/5 [00:02<00:00,  1.92it/s]it]\n",
      "100%|██████████| 5/5 [00:02<00:00,  1.84it/s]it]\n",
      "100%|██████████| 5/5 [00:02<00:00,  1.76it/s]it]\n",
      "100%|██████████| 5/5 [00:02<00:00,  1.86it/s]it]\n",
      "100%|██████████| 5/5 [00:02<00:00,  1.75it/s]it]\n",
      "100%|██████████| 5/5 [00:02<00:00,  1.78it/s]it]\n",
      "100%|██████████| 5/5 [00:02<00:00,  1.84it/s]it]\n",
      "100%|██████████| 5/5 [00:02<00:00,  1.82it/s]it]\n",
      "100%|██████████| 5/5 [00:02<00:00,  1.82it/s]it]\n",
      "100%|██████████| 5/5 [00:03<00:00,  1.64it/s]it]\n",
      "100%|██████████| 5/5 [00:02<00:00,  1.83it/s]it]\n",
      "100%|██████████| 5/5 [00:02<00:00,  1.86it/s]it]\n",
      "100%|██████████| 5/5 [00:02<00:00,  1.80it/s]it]\n",
      "100%|██████████| 5/5 [00:02<00:00,  1.87it/s]it]\n",
      "100%|██████████| 5/5 [00:02<00:00,  1.83it/s]it]\n",
      "100%|██████████| 5/5 [00:02<00:00,  1.85it/s]it]\n",
      "100%|██████████| 5/5 [00:02<00:00,  1.88it/s]it]\n",
      "100%|██████████| 5/5 [00:02<00:00,  1.86it/s]it]\n",
      "100%|██████████| 5/5 [00:03<00:00,  1.67it/s]it]\n",
      "100%|██████████| 5/5 [00:02<00:00,  1.82it/s]it]\n",
      "100%|██████████| 5/5 [00:02<00:00,  1.77it/s]it]\n",
      "100%|██████████| 5/5 [00:02<00:00,  1.81it/s]it]\n",
      "100%|██████████| 5/5 [00:02<00:00,  1.84it/s]it]\n",
      "100%|██████████| 5/5 [00:02<00:00,  1.75it/s]it]\n",
      "100%|██████████| 5/5 [00:02<00:00,  1.82it/s]it]\n",
      "100%|██████████| 5/5 [00:02<00:00,  1.80it/s]it]\n",
      "100%|██████████| 5/5 [00:02<00:00,  1.72it/s]it]\n",
      "100%|██████████| 5/5 [00:02<00:00,  1.74it/s]it]\n",
      "100%|██████████| 5/5 [00:03<00:00,  1.62it/s]it]\n",
      "100%|██████████| 5/5 [00:02<00:00,  1.81it/s]it]\n",
      "100%|██████████| 5/5 [00:02<00:00,  1.81it/s]it]\n",
      "100%|██████████| 5/5 [00:02<00:00,  1.87it/s]it]\n",
      "100%|██████████| 5/5 [00:02<00:00,  1.74it/s]it]\n",
      "100%|██████████| 5/5 [00:02<00:00,  1.77it/s]it]\n",
      "100%|██████████| 5/5 [00:02<00:00,  1.80it/s]it]\n",
      "100%|██████████| 5/5 [00:02<00:00,  1.78it/s]it]\n",
      "100%|██████████| 5/5 [00:02<00:00,  1.77it/s]it]\n",
      "100%|██████████| 5/5 [00:02<00:00,  1.79it/s]it]\n",
      "100%|██████████| 5/5 [00:03<00:00,  1.56it/s]it]\n",
      "100%|██████████| 5/5 [00:03<00:00,  1.58it/s]it]\n",
      "100%|██████████| 5/5 [00:02<00:00,  1.74it/s]it]\n",
      "100%|██████████| 5/5 [00:02<00:00,  1.79it/s]it]\n",
      "100%|██████████| 100/100 [04:49<00:00,  2.89s/it]\n"
     ]
    }
   ],
   "source": [
    "alg_resutls = {}\n",
    "alg_resutls[\"first_change_point\"] = {}\n",
    "\n",
    "for cusum_threshold in tqdm(np.exp(np.linspace(-6, 3, 100))):\n",
    "    all_test_losses, all_wall_times = test(res, str(cusum_threshold), \"first_change_point\")\n",
    "    alg_resutls[\"first_change_point\"][str(cusum_threshold)] = {'all_test_losses':all_test_losses, 'all_wall_times':all_wall_times}\n"
   ]
  },
  {
   "cell_type": "code",
   "execution_count": 25,
   "metadata": {},
   "outputs": [],
   "source": [
    "result = {}\n",
    "for threashold in alg_resutls[\"first_change_point\"]:\n",
    "    result[f\"first_change_point_{threashold}\"] =  {'all_wall_times': alg_resutls[\"first_change_point\"][threashold]['all_wall_times'],\n",
    "                                      'all_test_losses': alg_resutls[\"first_change_point\"][threashold]['all_test_losses']}"
   ]
  },
  {
   "cell_type": "code",
   "execution_count": 26,
   "metadata": {},
   "outputs": [
    {
     "name": "stderr",
     "output_type": "stream",
     "text": [
      "c:\\Users\\Maria\\Desktop\\Maria\\Maria\\from github\\Project_reseach\\nas_environment.py:36: RuntimeWarning: All-NaN axis encountered\n",
      "  cur_loss = np.nanmin(log['test_losses'])\n"
     ]
    },
    {
     "data": {
      "image/png": "[encoded data removed]",
      "text/plain": [
       "<Figure size 800x500 with 1 Axes>"
      ]
     },
     "metadata": {},
     "output_type": "display_data"
    }
   ],
   "source": [
    "y_opt = env.get_best_possible_test_loss()\n",
    "\n",
    "plt.figure(figsize=(8, 5), dpi=100)\n",
    "\n",
    "\n",
    "for i, alg_name in enumerate(list(result.keys())):\n",
    "    \n",
    "    all_test_losses = result[alg_name]['all_test_losses']\n",
    "    all_wall_times = result[alg_name]['all_wall_times']\n",
    "\n",
    "    all_xs = np.array(all_test_losses)\n",
    "    all_ts = np.array(all_wall_times)/3600.\n",
    "\n",
    "    s = 1.96/np.sqrt(all_xs.shape[0])\n",
    "\n",
    "    all_ts_mean = all_ts.mean(axis=0)\n",
    "\n",
    "    all_ts_max = all_ts_mean + s*all_ts.std(axis=0)\n",
    "    all_ts_min = all_ts_mean - s*all_ts.std(axis=0)\n",
    "\n",
    "    all_xs_mean = np.nanmean(all_xs, axis=0)\n",
    "\n",
    "    all_xs_max = all_xs_mean + s*np.nanstd(all_xs, axis=0)\n",
    "    all_xs_min = all_xs_mean - s*np.nanstd(all_xs, axis=0)\n",
    "    \n",
    "    if alg_name[:5] == \"cusum\":\n",
    "        c = \"green\"\n",
    "    elif alg_name[:4] == \"peak\":\n",
    "        c = \"orange\"\n",
    "    else:\n",
    "        if alg_name[-5:] == \"0.005\":\n",
    "            c = \"yellow\"\n",
    "        else: c = \"blue\"\n",
    "        \n",
    "    plt.plot(all_ts_mean, all_xs_mean - y_opt, lw=1.5, color=c, label=alg_name) #color = f'C{i}'\n",
    "    plt.fill_between(all_ts_mean, all_xs_min - y_opt, all_xs_max - y_opt, alpha=0.1, edgecolor=c)\n",
    "\n",
    "#plt.legend()\n",
    "plt.xlabel('Total train time [h]', fontsize=14)\n",
    "plt.ylabel('Regret', fontsize=14)\n",
    "plt.ylim([0.2, 0.9])\n",
    "plt.xscale('log')\n",
    "plt.yscale('log')\n",
    "plt.xlim([5, 300])\n",
    "plt.xticks([10, 20, 50, 100, 200]);\n",
    "plt.gca().get_xaxis().set_major_formatter(matplotlib.ticker.ScalarFormatter())\n",
    "plt.grid()\n",
    "# plt.savefig('cusum_experiments_pareto.png', dpi=300, bbox_inches='tight')"
   ]
  },
  {
   "cell_type": "code",
   "execution_count": null,
   "metadata": {},
   "outputs": [],
   "source": []
  },
  {
   "attachments": {},
   "cell_type": "markdown",
   "metadata": {},
   "source": [
    "# Statistics"
   ]
  },
  {
   "cell_type": "code",
   "execution_count": 92,
   "metadata": {},
   "outputs": [],
   "source": [
    "with open(\"results_cusum_and_peaks.json\", \"r\") as f:\n",
    "    res = json.load(f)"
   ]
  },
  {
   "cell_type": "code",
   "execution_count": 121,
   "metadata": {},
   "outputs": [
    {
     "name": "stderr",
     "output_type": "stream",
     "text": [
      "  0%|          | 0/100 [00:00<?, ?it/s]c:\\Users\\Maria\\Documents\\.39venv\\lib\\site-packages\\numpy\\core\\fromnumeric.py:3432: RuntimeWarning: Mean of empty slice.\n",
      "  return _methods._mean(a, axis=axis, dtype=dtype,\n",
      "c:\\Users\\Maria\\Documents\\.39venv\\lib\\site-packages\\numpy\\core\\_methods.py:190: RuntimeWarning: invalid value encountered in double_scalars\n",
      "  ret = ret.dtype.type(ret / rcount)\n",
      "100%|██████████| 100/100 [18:45<00:00, 11.25s/it]\n"
     ]
    }
   ],
   "source": [
    "statistics = {}\n",
    "for t in tqdm(np.exp(np.linspace(-6, 3, 100))):\n",
    "    trains = []\n",
    "    vals = []\n",
    "    tests = []\n",
    "    times = []\n",
    "    epoches = []\n",
    "    for key in res.keys():\n",
    "        #'train_loss','val_loss','test_loss','wall_time','cur_epoch','status'\n",
    "        env.reset()\n",
    "        try:\n",
    "            env.simulated_train(search_set[int(key)], 50)\n",
    "        except Exception as ex:\n",
    "            pass#print(ex)\n",
    "        try:\n",
    "            ep = int(res[key][str(t)][\"first_change_point\"])\n",
    "            #print(ep)\n",
    "            model_results = env.get_model_stats(search_set[int(key)], (ep if ep != 50 else 49))\n",
    "            if model_results[\"status\"] == \"OK\":\n",
    "                trains.append(model_results[\"train_loss\"])\n",
    "                vals.append(model_results[\"val_loss\"])\n",
    "                tests.append(model_results[\"test_loss\"])\n",
    "                times.append(model_results[\"wall_time\"])\n",
    "                epoches.append(ep)\n",
    "        except Exception as ex:\n",
    "            pass#print(ex)\n",
    "    statistics[t] = {'mean_train_loss': np.mean(trains),\n",
    "                'mean_val_loss': np.mean(vals),\n",
    "                'mean_test_loss': np.mean(tests),\n",
    "                'mean_wall_time': np.mean(times),\n",
    "                'mean_epoch': np.mean(epoches),\n",
    "                'min_train_loss':np.nan  if len(trains) == 0 else np.min(trains),\n",
    "                'min_val_loss':  np.nan if len(vals) == 0 else np.min(vals),\n",
    "                'min_test_loss': np.nan if len(tests) == 0 else np.min(tests)}\n",
    "        "
   ]
  },
  {
   "cell_type": "code",
   "execution_count": 122,
   "metadata": {},
   "outputs": [],
   "source": [
    "trains = []\n",
    "vals = []\n",
    "tests = []\n",
    "times = []\n",
    "epoches = []\n",
    "for key in res.keys():\n",
    "    #'train_loss','val_loss','test_loss','wall_time','cur_epoch','status'\n",
    "    env.reset()\n",
    "    try:\n",
    "        env.simulated_train(search_set[int(key)], 50)\n",
    "    except Exception as ex:\n",
    "        pass\n",
    "    try:\n",
    "        model_results = env.get_model_stats(search_set[int(key)], 49)\n",
    "        if model_results[\"status\"] == \"OK\":\n",
    "            trains.append(model_results[\"train_loss\"])\n",
    "            vals.append(model_results[\"val_loss\"])\n",
    "            tests.append(model_results[\"test_loss\"])\n",
    "            times.append(model_results[\"wall_time\"])\n",
    "            epoches.append(ep)\n",
    "    except Exception as ex:\n",
    "        pass\n",
    "statistics['full'] = {'mean_train_loss': np.mean(trains),\n",
    "            'mean_val_loss': np.mean(vals),\n",
    "            'mean_test_loss': np.mean(tests),\n",
    "            'mean_wall_time': np.mean(times),\n",
    "            'mean_epoch': np.mean(epoches),\n",
    "            'min_train_loss': np.min(trains),\n",
    "            'min_val_loss': np.min(vals),\n",
    "            'min_test_loss': np.min(tests)}\n",
    "    "
   ]
  },
  {
   "cell_type": "code",
   "execution_count": 123,
   "metadata": {},
   "outputs": [
    {
     "data": {
      "text/html": [
       "<div>\n",
       "<style scoped>\n",
       "    .dataframe tbody tr th:only-of-type {\n",
       "        vertical-align: middle;\n",
       "    }\n",
       "\n",
       "    .dataframe tbody tr th {\n",
       "        vertical-align: top;\n",
       "    }\n",
       "\n",
       "    .dataframe thead th {\n",
       "        text-align: right;\n",
       "    }\n",
       "</style>\n",
       "<table border=\"1\" class=\"dataframe\">\n",
       "  <thead>\n",
       "    <tr style=\"text-align: right;\">\n",
       "      <th></th>\n",
       "      <th>0.004276820349208926</th>\n",
       "      <th>0.004683842946287709</th>\n",
       "      <th>0.005129601655946807</th>\n",
       "      <th>0.005617782972323415</th>\n",
       "      <th>0.006152424231136861</th>\n",
       "      <th>0.006737946999085467</th>\n",
       "      <th>0.007379193640893606</th>\n",
       "      <th>0.008081467366424134</th>\n",
       "      <th>0.008850576089052096</th>\n",
       "      <th>0.009692880458015281</th>\n",
       "      <th>...</th>\n",
       "      <th>9.705835210448603</th>\n",
       "      <th>10.629534110942782</th>\n",
       "      <th>11.641140918409853</th>\n",
       "      <th>12.74902177911694</th>\n",
       "      <th>13.962339040785407</th>\n",
       "      <th>15.291127026637097</th>\n",
       "      <th>16.746375020814504</th>\n",
       "      <th>18.340118151476506</th>\n",
       "      <th>20.085536923187668</th>\n",
       "      <th>full</th>\n",
       "    </tr>\n",
       "  </thead>\n",
       "  <tbody>\n",
       "    <tr>\n",
       "      <th>mean_train_loss</th>\n",
       "      <td>5.651420</td>\n",
       "      <td>5.622790</td>\n",
       "      <td>5.613686</td>\n",
       "      <td>5.609462</td>\n",
       "      <td>5.609239</td>\n",
       "      <td>5.609190</td>\n",
       "      <td>5.609066</td>\n",
       "      <td>5.609580</td>\n",
       "      <td>5.609658</td>\n",
       "      <td>5.609931</td>\n",
       "      <td>...</td>\n",
       "      <td>4.730395</td>\n",
       "      <td>4.730274</td>\n",
       "      <td>4.730326</td>\n",
       "      <td>4.730291</td>\n",
       "      <td>4.729353</td>\n",
       "      <td>4.729010</td>\n",
       "      <td>4.731182</td>\n",
       "      <td>4.728467</td>\n",
       "      <td>4.728375</td>\n",
       "      <td>4.736984</td>\n",
       "    </tr>\n",
       "    <tr>\n",
       "      <th>mean_val_loss</th>\n",
       "      <td>5.709301</td>\n",
       "      <td>5.682241</td>\n",
       "      <td>5.673628</td>\n",
       "      <td>5.669662</td>\n",
       "      <td>5.669384</td>\n",
       "      <td>5.669319</td>\n",
       "      <td>5.669142</td>\n",
       "      <td>5.669575</td>\n",
       "      <td>5.669651</td>\n",
       "      <td>5.669880</td>\n",
       "      <td>...</td>\n",
       "      <td>5.169839</td>\n",
       "      <td>5.169737</td>\n",
       "      <td>5.169786</td>\n",
       "      <td>5.169824</td>\n",
       "      <td>5.168897</td>\n",
       "      <td>5.168550</td>\n",
       "      <td>5.170672</td>\n",
       "      <td>5.168005</td>\n",
       "      <td>5.167913</td>\n",
       "      <td>5.165658</td>\n",
       "    </tr>\n",
       "    <tr>\n",
       "      <th>mean_test_loss</th>\n",
       "      <td>5.659843</td>\n",
       "      <td>5.633353</td>\n",
       "      <td>5.624887</td>\n",
       "      <td>5.621125</td>\n",
       "      <td>5.620943</td>\n",
       "      <td>5.620941</td>\n",
       "      <td>5.620787</td>\n",
       "      <td>5.621229</td>\n",
       "      <td>5.621347</td>\n",
       "      <td>5.621576</td>\n",
       "      <td>...</td>\n",
       "      <td>5.118387</td>\n",
       "      <td>5.118266</td>\n",
       "      <td>5.118316</td>\n",
       "      <td>5.118298</td>\n",
       "      <td>5.117375</td>\n",
       "      <td>5.117028</td>\n",
       "      <td>5.119143</td>\n",
       "      <td>5.116490</td>\n",
       "      <td>5.116400</td>\n",
       "      <td>5.111740</td>\n",
       "    </tr>\n",
       "    <tr>\n",
       "      <th>mean_wall_time</th>\n",
       "      <td>220.741570</td>\n",
       "      <td>225.916751</td>\n",
       "      <td>224.515699</td>\n",
       "      <td>226.569542</td>\n",
       "      <td>230.752715</td>\n",
       "      <td>233.175916</td>\n",
       "      <td>234.585032</td>\n",
       "      <td>236.826087</td>\n",
       "      <td>238.645572</td>\n",
       "      <td>242.130425</td>\n",
       "      <td>...</td>\n",
       "      <td>9553.067170</td>\n",
       "      <td>9553.231424</td>\n",
       "      <td>9553.693991</td>\n",
       "      <td>9553.795727</td>\n",
       "      <td>9553.833179</td>\n",
       "      <td>9553.883494</td>\n",
       "      <td>9552.974365</td>\n",
       "      <td>9554.161980</td>\n",
       "      <td>9554.318395</td>\n",
       "      <td>9552.326779</td>\n",
       "    </tr>\n",
       "    <tr>\n",
       "      <th>mean_epoch</th>\n",
       "      <td>1.083133</td>\n",
       "      <td>1.090445</td>\n",
       "      <td>1.091233</td>\n",
       "      <td>1.109178</td>\n",
       "      <td>1.124151</td>\n",
       "      <td>1.139188</td>\n",
       "      <td>1.146619</td>\n",
       "      <td>1.155915</td>\n",
       "      <td>1.160067</td>\n",
       "      <td>1.176744</td>\n",
       "      <td>...</td>\n",
       "      <td>49.967118</td>\n",
       "      <td>49.968305</td>\n",
       "      <td>49.972697</td>\n",
       "      <td>49.973291</td>\n",
       "      <td>49.973647</td>\n",
       "      <td>49.974122</td>\n",
       "      <td>49.968902</td>\n",
       "      <td>49.976733</td>\n",
       "      <td>49.977564</td>\n",
       "      <td>50.000000</td>\n",
       "    </tr>\n",
       "    <tr>\n",
       "      <th>min_train_loss</th>\n",
       "      <td>5.087873</td>\n",
       "      <td>5.087873</td>\n",
       "      <td>5.073929</td>\n",
       "      <td>5.073929</td>\n",
       "      <td>5.073929</td>\n",
       "      <td>5.073929</td>\n",
       "      <td>5.073929</td>\n",
       "      <td>5.073929</td>\n",
       "      <td>5.073929</td>\n",
       "      <td>5.073929</td>\n",
       "      <td>...</td>\n",
       "      <td>3.060182</td>\n",
       "      <td>3.060182</td>\n",
       "      <td>3.060182</td>\n",
       "      <td>3.060182</td>\n",
       "      <td>3.060182</td>\n",
       "      <td>3.060182</td>\n",
       "      <td>3.060182</td>\n",
       "      <td>3.060182</td>\n",
       "      <td>3.060182</td>\n",
       "      <td>3.060182</td>\n",
       "    </tr>\n",
       "    <tr>\n",
       "      <th>min_val_loss</th>\n",
       "      <td>5.196837</td>\n",
       "      <td>5.196837</td>\n",
       "      <td>5.184992</td>\n",
       "      <td>5.184992</td>\n",
       "      <td>5.184992</td>\n",
       "      <td>5.184992</td>\n",
       "      <td>5.184992</td>\n",
       "      <td>5.184992</td>\n",
       "      <td>5.184992</td>\n",
       "      <td>5.184992</td>\n",
       "      <td>...</td>\n",
       "      <td>4.415310</td>\n",
       "      <td>4.415310</td>\n",
       "      <td>4.415310</td>\n",
       "      <td>4.415310</td>\n",
       "      <td>4.415310</td>\n",
       "      <td>4.415310</td>\n",
       "      <td>4.415310</td>\n",
       "      <td>4.415310</td>\n",
       "      <td>4.415310</td>\n",
       "      <td>4.415310</td>\n",
       "    </tr>\n",
       "    <tr>\n",
       "      <th>min_test_loss</th>\n",
       "      <td>5.161230</td>\n",
       "      <td>5.161230</td>\n",
       "      <td>5.143626</td>\n",
       "      <td>5.143626</td>\n",
       "      <td>5.143626</td>\n",
       "      <td>5.143626</td>\n",
       "      <td>5.143626</td>\n",
       "      <td>5.143626</td>\n",
       "      <td>5.143626</td>\n",
       "      <td>5.143626</td>\n",
       "      <td>...</td>\n",
       "      <td>4.368057</td>\n",
       "      <td>4.368057</td>\n",
       "      <td>4.368057</td>\n",
       "      <td>4.368057</td>\n",
       "      <td>4.368057</td>\n",
       "      <td>4.368057</td>\n",
       "      <td>4.368057</td>\n",
       "      <td>4.368057</td>\n",
       "      <td>4.368057</td>\n",
       "      <td>4.368057</td>\n",
       "    </tr>\n",
       "  </tbody>\n",
       "</table>\n",
       "<p>8 rows × 95 columns</p>\n",
       "</div>"
      ],
      "text/plain": [
       "                 0.004276820349208926  0.004683842946287709  \\\n",
       "mean_train_loss              5.651420              5.622790   \n",
       "mean_val_loss                5.709301              5.682241   \n",
       "mean_test_loss               5.659843              5.633353   \n",
       "mean_wall_time             220.741570            225.916751   \n",
       "mean_epoch                   1.083133              1.090445   \n",
       "min_train_loss               5.087873              5.087873   \n",
       "min_val_loss                 5.196837              5.196837   \n",
       "min_test_loss                5.161230              5.161230   \n",
       "\n",
       "                 0.005129601655946807  0.005617782972323415  \\\n",
       "mean_train_loss              5.613686              5.609462   \n",
       "mean_val_loss                5.673628              5.669662   \n",
       "mean_test_loss               5.624887              5.621125   \n",
       "mean_wall_time             224.515699            226.569542   \n",
       "mean_epoch                   1.091233              1.109178   \n",
       "min_train_loss               5.073929              5.073929   \n",
       "min_val_loss                 5.184992              5.184992   \n",
       "min_test_loss                5.143626              5.143626   \n",
       "\n",
       "                 0.006152424231136861  0.006737946999085467  \\\n",
       "mean_train_loss              5.609239              5.609190   \n",
       "mean_val_loss                5.669384              5.669319   \n",
       "mean_test_loss               5.620943              5.620941   \n",
       "mean_wall_time             230.752715            233.175916   \n",
       "mean_epoch                   1.124151              1.139188   \n",
       "min_train_loss               5.073929              5.073929   \n",
       "min_val_loss                 5.184992              5.184992   \n",
       "min_test_loss                5.143626              5.143626   \n",
       "\n",
       "                 0.007379193640893606  0.008081467366424134  \\\n",
       "mean_train_loss              5.609066              5.609580   \n",
       "mean_val_loss                5.669142              5.669575   \n",
       "mean_test_loss               5.620787              5.621229   \n",
       "mean_wall_time             234.585032            236.826087   \n",
       "mean_epoch                   1.146619              1.155915   \n",
       "min_train_loss               5.073929              5.073929   \n",
       "min_val_loss                 5.184992              5.184992   \n",
       "min_test_loss                5.143626              5.143626   \n",
       "\n",
       "                 0.008850576089052096  0.009692880458015281  ...  \\\n",
       "mean_train_loss              5.609658              5.609931  ...   \n",
       "mean_val_loss                5.669651              5.669880  ...   \n",
       "mean_test_loss               5.621347              5.621576  ...   \n",
       "mean_wall_time             238.645572            242.130425  ...   \n",
       "mean_epoch                   1.160067              1.176744  ...   \n",
       "min_train_loss               5.073929              5.073929  ...   \n",
       "min_val_loss                 5.184992              5.184992  ...   \n",
       "min_test_loss                5.143626              5.143626  ...   \n",
       "\n",
       "                 9.705835210448603  10.629534110942782  11.641140918409853  \\\n",
       "mean_train_loss           4.730395            4.730274            4.730326   \n",
       "mean_val_loss             5.169839            5.169737            5.169786   \n",
       "mean_test_loss            5.118387            5.118266            5.118316   \n",
       "mean_wall_time         9553.067170         9553.231424         9553.693991   \n",
       "mean_epoch               49.967118           49.968305           49.972697   \n",
       "min_train_loss            3.060182            3.060182            3.060182   \n",
       "min_val_loss              4.415310            4.415310            4.415310   \n",
       "min_test_loss             4.368057            4.368057            4.368057   \n",
       "\n",
       "                 12.74902177911694  13.962339040785407  15.291127026637097  \\\n",
       "mean_train_loss           4.730291            4.729353            4.729010   \n",
       "mean_val_loss             5.169824            5.168897            5.168550   \n",
       "mean_test_loss            5.118298            5.117375            5.117028   \n",
       "mean_wall_time         9553.795727         9553.833179         9553.883494   \n",
       "mean_epoch               49.973291           49.973647           49.974122   \n",
       "min_train_loss            3.060182            3.060182            3.060182   \n",
       "min_val_loss              4.415310            4.415310            4.415310   \n",
       "min_test_loss             4.368057            4.368057            4.368057   \n",
       "\n",
       "                 16.746375020814504  18.340118151476506  20.085536923187668  \\\n",
       "mean_train_loss            4.731182            4.728467            4.728375   \n",
       "mean_val_loss              5.170672            5.168005            5.167913   \n",
       "mean_test_loss             5.119143            5.116490            5.116400   \n",
       "mean_wall_time          9552.974365         9554.161980         9554.318395   \n",
       "mean_epoch                49.968902           49.976733           49.977564   \n",
       "min_train_loss             3.060182            3.060182            3.060182   \n",
       "min_val_loss               4.415310            4.415310            4.415310   \n",
       "min_test_loss              4.368057            4.368057            4.368057   \n",
       "\n",
       "                        full  \n",
       "mean_train_loss     4.736984  \n",
       "mean_val_loss       5.165658  \n",
       "mean_test_loss      5.111740  \n",
       "mean_wall_time   9552.326779  \n",
       "mean_epoch         50.000000  \n",
       "min_train_loss      3.060182  \n",
       "min_val_loss        4.415310  \n",
       "min_test_loss       4.368057  \n",
       "\n",
       "[8 rows x 95 columns]"
      ]
     },
     "execution_count": 123,
     "metadata": {},
     "output_type": "execute_result"
    }
   ],
   "source": [
    "df = pd.DataFrame(statistics).dropna(axis = 1)\n",
    "df"
   ]
  },
  {
   "cell_type": "code",
   "execution_count": 139,
   "metadata": {},
   "outputs": [
    {
     "data": {
      "image/png": "[encoded data removed]",
      "text/plain": [
       "<Figure size 640x480 with 1 Axes>"
      ]
     },
     "metadata": {},
     "output_type": "display_data"
    }
   ],
   "source": [
    "\n",
    "plt.scatter(df.loc[\"mean_wall_time\"], df.loc[\"mean_train_loss\"])\n",
    "plt.scatter(df.loc[\"mean_wall_time\", \"full\"], df.loc[\"mean_train_loss\", \"full\"])\n",
    "\n",
    "plt.scatter(df.loc[\"mean_wall_time\"], df.loc[\"mean_val_loss\"])\n",
    "plt.scatter(df.loc[\"mean_wall_time\", \"full\"], df.loc[\"mean_val_loss\", \"full\"])\n",
    "\n",
    "plt.scatter(df.loc[\"mean_wall_time\"], df.loc[\"mean_test_loss\"])\n",
    "plt.scatter(df.loc[\"mean_wall_time\", \"full\"], df.loc[\"mean_test_loss\", \"full\"])\n",
    "\n",
    "plt.grid()\n",
    "plt.show()\n"
   ]
  },
  {
   "cell_type": "code",
   "execution_count": 140,
   "metadata": {},
   "outputs": [
    {
     "data": {
      "image/png": "[encoded data removed]",
      "text/plain": [
       "<Figure size 640x480 with 1 Axes>"
      ]
     },
     "metadata": {},
     "output_type": "display_data"
    }
   ],
   "source": [
    "\n",
    "plt.scatter(df.loc[\"mean_wall_time\"], df.loc[\"min_train_loss\"])\n",
    "plt.scatter(df.loc[\"mean_wall_time\", \"full\"], df.loc[\"min_train_loss\", \"full\"])\n",
    "\n",
    "plt.scatter(df.loc[\"mean_wall_time\"], df.loc[\"min_val_loss\"])\n",
    "plt.scatter(df.loc[\"mean_wall_time\", \"full\"], df.loc[\"min_val_loss\", \"full\"])\n",
    "\n",
    "plt.scatter(df.loc[\"mean_wall_time\"], df.loc[\"min_test_loss\"])\n",
    "plt.scatter(df.loc[\"mean_wall_time\", \"full\"], df.loc[\"min_test_loss\", \"full\"])\n",
    "\n",
    "plt.grid()\n",
    "plt.show()\n"
   ]
  },
  {
   "attachments": {},
   "cell_type": "markdown",
   "metadata": {},
   "source": [
    "# Classification"
   ]
  },
  {
   "cell_type": "code",
   "execution_count": 1,
   "metadata": {},
   "outputs": [],
   "source": [
    "from sklearn.model_selection import train_test_split\n",
    "\n",
    "from sklearn.neural_network import MLPClassifier\n",
    "from sklearn.gaussian_process import GaussianProcessClassifier\n",
    "from sklearn.ensemble import RandomForestClassifier, AdaBoostClassifier\n",
    "from sklearn.neighbors import KNeighborsClassifier\n",
    "from xgboost import XGBClassifier\n",
    "\n",
    "from sklearn.metrics import confusion_matrix"
   ]
  },
  {
   "cell_type": "code",
   "execution_count": 8,
   "metadata": {},
   "outputs": [
    {
     "name": "stdout",
     "output_type": "stream",
     "text": [
      "2 11 0 Required epoch exceeds current training epochs.\n",
      "2 572 0 Required epoch exceeds current training epochs.\n",
      "2 591 0 Required epoch exceeds current training epochs.\n",
      "2 1614 0 Required epoch exceeds current training epochs.\n",
      "2 2618 0 Required epoch exceeds current training epochs.\n",
      "2 2624 0 Required epoch exceeds current training epochs.\n",
      "2 2640 0 Required epoch exceeds current training epochs.\n",
      "2 2693 0 Required epoch exceeds current training epochs.\n",
      "2 2937 0 Required epoch exceeds current training epochs.\n",
      "2 3199 0 Required epoch exceeds current training epochs.\n",
      "2 3323 0 Required epoch exceeds current training epochs.\n",
      "2 3332 0 Required epoch exceeds current training epochs.\n",
      "2 3609 0 Required epoch exceeds current training epochs.\n",
      "2 3795 0 Required epoch exceeds current training epochs.\n",
      "2 4031 0 Required epoch exceeds current training epochs.\n",
      "2 4080 0 Required epoch exceeds current training epochs.\n",
      "2 4211 0 Required epoch exceeds current training epochs.\n",
      "2 4368 0 Required epoch exceeds current training epochs.\n",
      "2 4402 0 Required epoch exceeds current training epochs.\n",
      "2 4435 0 Required epoch exceeds current training epochs.\n",
      "2 4818 0 Required epoch exceeds current training epochs.\n",
      "2 4942 0 Required epoch exceeds current training epochs.\n",
      "2 4989 0 Required epoch exceeds current training epochs.\n",
      "2 5159 0 Required epoch exceeds current training epochs.\n",
      "2 5234 0 Required epoch exceeds current training epochs.\n",
      "2 5517 0 Required epoch exceeds current training epochs.\n",
      "2 5575 0 Required epoch exceeds current training epochs.\n",
      "2 5623 0 Required epoch exceeds current training epochs.\n",
      "2 5872 0 Required epoch exceeds current training epochs.\n",
      "2 5909 0 Required epoch exceeds current training epochs.\n",
      "2 6417 0 Required epoch exceeds current training epochs.\n",
      "2 6738 0 Required epoch exceeds current training epochs.\n",
      "2 7127 0 Required epoch exceeds current training epochs.\n",
      "2 7202 0 Required epoch exceeds current training epochs.\n",
      "2 7272 0 Required epoch exceeds current training epochs.\n",
      "2 7613 0 Required epoch exceeds current training epochs.\n",
      "2 7912 0 Required epoch exceeds current training epochs.\n",
      "2 7919 0 Required epoch exceeds current training epochs.\n",
      "2 8254 0 Required epoch exceeds current training epochs.\n",
      "2 8319 0 Required epoch exceeds current training epochs.\n",
      "2 8963 0 Required epoch exceeds current training epochs.\n",
      "2 9015 0 Required epoch exceeds current training epochs.\n",
      "2 9307 0 Required epoch exceeds current training epochs.\n",
      "2 9450 0 Required epoch exceeds current training epochs.\n",
      "2 9529 0 Required epoch exceeds current training epochs.\n",
      "2 9729 0 Required epoch exceeds current training epochs.\n",
      "2 9811 0 Required epoch exceeds current training epochs.\n",
      "2 9874 0 Required epoch exceeds current training epochs.\n",
      "2 9900 0 Required epoch exceeds current training epochs.\n",
      "2 9997 0 Required epoch exceeds current training epochs.\n",
      "2 10090 0 Required epoch exceeds current training epochs.\n",
      "2 10105 0 Required epoch exceeds current training epochs.\n",
      "2 10406 0 Required epoch exceeds current training epochs.\n",
      "2 10525 0 Required epoch exceeds current training epochs.\n",
      "2 10636 0 Required epoch exceeds current training epochs.\n",
      "2 10637 0 Required epoch exceeds current training epochs.\n",
      "2 11149 0 Required epoch exceeds current training epochs.\n",
      "2 11195 0 Required epoch exceeds current training epochs.\n",
      "2 11316 0 Required epoch exceeds current training epochs.\n",
      "2 11688 0 Required epoch exceeds current training epochs.\n",
      "2 11887 0 Required epoch exceeds current training epochs.\n",
      "2 11952 0 Required epoch exceeds current training epochs.\n",
      "2 12780 0 Required epoch exceeds current training epochs.\n",
      "2 13433 0 Required epoch exceeds current training epochs.\n",
      "2 14099 0 Required epoch exceeds current training epochs.\n"
     ]
    }
   ],
   "source": [
    "models = []\n",
    "val_losses = []\n",
    "best_val_losses = []\n",
    "\n",
    "for i in range(len(search_set)):\n",
    "        #'train_loss','val_loss','test_loss','wall_time','cur_epoch','status'\n",
    "        env.reset()\n",
    "        try:\n",
    "            env.simulated_train(search_set[int(i)], 50)\n",
    "        except Exception as ex:\n",
    "            print(1, ex)\n",
    "            pass#print(ex)\n",
    "\n",
    "        try:\n",
    "            model_val_losses = []\n",
    "            for j in range(50):\n",
    "                model_results = env.get_model_stats(search_set[int(i)], j)\n",
    "                if env.get_model_stats(search_set[int(i)], j)[\"status\"] == \"OK\":\n",
    "                    model_val_losses.append(env.get_model_stats(search_set[int(i)], j)[\"val_loss\"])\n",
    "                else: break\n",
    "            models.append(i)\n",
    "            if len(model_val_losses) < 50: \n",
    "                model_val_losses = model_val_losses + [np.inf for i in range(50 - len(model_val_losses))]\n",
    "            val_losses.append(model_val_losses)\n",
    "            best_val_losses.append(np.min(model_val_losses))\n",
    "        except Exception as ex:\n",
    "            print(2, i, j, ex)\n",
    "            pass#print(ex)"
   ]
  },
  {
   "cell_type": "code",
   "execution_count": 9,
   "metadata": {},
   "outputs": [
    {
     "data": {
      "text/plain": [
       "14257"
      ]
     },
     "execution_count": 9,
     "metadata": {},
     "output_type": "execute_result"
    }
   ],
   "source": [
    "len(best_val_losses)"
   ]
  },
  {
   "cell_type": "code",
   "execution_count": 10,
   "metadata": {},
   "outputs": [
    {
     "data": {
      "text/plain": [
       "((14257, 50), (14257,), (14257,))"
      ]
     },
     "execution_count": 10,
     "metadata": {},
     "output_type": "execute_result"
    }
   ],
   "source": [
    "val_losses = np.array(val_losses)\n",
    "best_val_losses = np.array(best_val_losses)\n",
    "models = np.array(models)\n",
    "\n",
    "val_losses.shape, best_val_losses.shape, models.shape"
   ]
  },
  {
   "cell_type": "code",
   "execution_count": 11,
   "metadata": {},
   "outputs": [],
   "source": [
    "indexes = np.argsort(best_val_losses)[:int(len(best_val_losses) * 0.05)]\n",
    "assert np.min(best_val_losses) == np.min(best_val_losses[indexes])\n",
    "best_models = models[indexes]"
   ]
  },
  {
   "cell_type": "code",
   "execution_count": 44,
   "metadata": {},
   "outputs": [],
   "source": [
    "from imblearn.over_sampling import RandomOverSampler\n",
    "from imblearn.under_sampling import RandomUnderSampler\n",
    "from collections import Counter\n",
    "\n",
    "def make_datasets(window_size):\n",
    "    X = np.expand_dims(val_losses[:, window_size], axis = 1) # val_losses[:, :window_size] \n",
    "    Y = np.array([1 if i in indexes else 0 for i in range(len(X))])\n",
    "    X_train,  X_test, Y_train, Y_test = train_test_split(X, Y, test_size = 0.2, shuffle = True, random_state = 42)\n",
    "    X_train[X_train == np.inf] = 1000\n",
    "    X_test[X_test == np.inf] = 1000\n",
    "\n",
    "    balancer = RandomUnderSampler()\n",
    "    balanced_train_x, balanced_train_y = balancer.fit_resample(X_train, Y_train)\n",
    "    return balanced_train_x,  X_test, balanced_train_y, Y_test\n"
   ]
  },
  {
   "cell_type": "code",
   "execution_count": 45,
   "metadata": {},
   "outputs": [],
   "source": [
    "def classification(window_size, type = \"MLP\"):\n",
    "    print(\"\")\n",
    "    X_train, X_test, Y_train, Y_test = make_datasets(window_size)\n",
    "    if type == \"MLP\":\n",
    "        clf = MLPClassifier(max_iter = 1000, random_state = 42).fit(X_train, Y_train)\n",
    "    elif type == \"Forest\":\n",
    "        clf = RandomForestClassifier(random_state = 42).fit(X_train, Y_train)\n",
    "    elif type == \"Gauss\":\n",
    "        clf = GaussianProcessClassifier(random_state = 42).fit(X_train, Y_train)\n",
    "    elif type == \"Neighbors\":\n",
    "        clf = KNeighborsClassifier().fit(X_train, Y_train)\n",
    "    elif type == \"Ada\":\n",
    "        clf = AdaBoostClassifier(random_state = 42).fit(X_train, Y_train)\n",
    "    elif type == \"xgboost\":\n",
    "        clf = XGBClassifier(n_jobs=-1).fit(X_train, Y_train)\n",
    "        \n",
    "    print(\"Type:\", type)\n",
    "    print(\"Window size:\", window_size)\n",
    "    print(\"Train accuracy:\", clf.score(X_train, Y_train))\n",
    "    print(\"Test accuracy:\", clf.score(X_test, Y_test))\n",
    "    print(\"Train confusion matrix:\")\n",
    "    print(confusion_matrix(Y_train, clf.predict(X_train)))\n",
    "    print(\"Test confusion matrix:\")\n",
    "    print(confusion_matrix(Y_test, clf.predict(X_test)))\n",
    "    return clf.score(X_test, Y_test)"
   ]
  },
  {
   "cell_type": "code",
   "execution_count": 46,
   "metadata": {},
   "outputs": [
    {
     "name": "stdout",
     "output_type": "stream",
     "text": [
      "\n",
      "Type: xgboost\n",
      "Window size: 5\n",
      "Train accuracy: 0.9423758865248227\n",
      "Test accuracy: 0.9014726507713885\n",
      "Train confusion matrix:\n",
      "[[526  38]\n",
      " [ 27 537]]\n",
      "Test confusion matrix:\n",
      "[[2436  268]\n",
      " [  13  135]]\n",
      "\n",
      "Type: xgboost\n",
      "Window size: 10\n",
      "Train accuracy: 0.9725177304964538\n",
      "Test accuracy: 0.9460028050490884\n",
      "Train confusion matrix:\n",
      "[[550  14]\n",
      " [ 17 547]]\n",
      "Test confusion matrix:\n",
      "[[2560  144]\n",
      " [  10  138]]\n",
      "\n",
      "Type: xgboost\n",
      "Window size: 15\n",
      "Train accuracy: 0.9893617021276596\n",
      "Test accuracy: 0.958625525946704\n",
      "Train confusion matrix:\n",
      "[[558   6]\n",
      " [  6 558]]\n",
      "Test confusion matrix:\n",
      "[[2590  114]\n",
      " [   4  144]]\n",
      "\n",
      "Type: xgboost\n",
      "Window size: 20\n",
      "Train accuracy: 0.9955673758865248\n",
      "Test accuracy: 0.9712482468443198\n",
      "Train confusion matrix:\n",
      "[[563   1]\n",
      " [  4 560]]\n",
      "Test confusion matrix:\n",
      "[[2628   76]\n",
      " [   6  142]]\n",
      "\n",
      "Type: xgboost\n",
      "Window size: 25\n",
      "Train accuracy: 0.9973404255319149\n",
      "Test accuracy: 0.9737026647966339\n",
      "Train confusion matrix:\n",
      "[[562   2]\n",
      " [  1 563]]\n",
      "Test confusion matrix:\n",
      "[[2630   74]\n",
      " [   1  147]]\n",
      "\n",
      "Type: xgboost\n",
      "Window size: 30\n",
      "Train accuracy: 0.99822695035461\n",
      "Test accuracy: 0.9803646563814866\n",
      "Train confusion matrix:\n",
      "[[563   1]\n",
      " [  1 563]]\n",
      "Test confusion matrix:\n",
      "[[2650   54]\n",
      " [   2  146]]\n",
      "\n",
      "Type: xgboost\n",
      "Window size: 35\n",
      "Train accuracy: 0.9964539007092199\n",
      "Test accuracy: 0.9800140252454418\n",
      "Train confusion matrix:\n",
      "[[563   1]\n",
      " [  3 561]]\n",
      "Test confusion matrix:\n",
      "[[2651   53]\n",
      " [   4  144]]\n",
      "\n",
      "Type: xgboost\n",
      "Window size: 40\n",
      "Train accuracy: 0.9955673758865248\n",
      "Test accuracy: 0.988078541374474\n",
      "Train confusion matrix:\n",
      "[[563   1]\n",
      " [  4 560]]\n",
      "Test confusion matrix:\n",
      "[[2671   33]\n",
      " [   1  147]]\n"
     ]
    }
   ],
   "source": [
    "test_accs = []\n",
    "nums = [5, 10, 15, 20, 25, 30, 35, 40]\n",
    "for n in nums:\n",
    "    test_acc = classification(n, \"xgboost\")\n",
    "    test_accs.append(test_acc)"
   ]
  },
  {
   "cell_type": "code",
   "execution_count": 47,
   "metadata": {},
   "outputs": [
    {
     "data": {
      "text/plain": [
       "[0.9014726507713885,\n",
       " 0.9460028050490884,\n",
       " 0.958625525946704,\n",
       " 0.9712482468443198,\n",
       " 0.9737026647966339,\n",
       " 0.9803646563814866,\n",
       " 0.9800140252454418,\n",
       " 0.988078541374474]"
      ]
     },
     "execution_count": 47,
     "metadata": {},
     "output_type": "execute_result"
    }
   ],
   "source": [
    "test_accs"
   ]
  },
  {
   "cell_type": "code",
   "execution_count": 48,
   "metadata": {},
   "outputs": [
    {
     "data": {
      "text/plain": [
       "[<matplotlib.lines.Line2D at 0x22c8be912a0>]"
      ]
     },
     "execution_count": 48,
     "metadata": {},
     "output_type": "execute_result"
    },
    {
     "data": {
      "image/png": "[encoded data removed]",
      "text/plain": [
       "<Figure size 640x480 with 1 Axes>"
      ]
     },
     "metadata": {},
     "output_type": "display_data"
    }
   ],
   "source": [
    "plt.plot(nums,test_accs)"
   ]
  },
  {
   "attachments": {},
   "cell_type": "markdown",
   "metadata": {},
   "source": [
    "# With embedings"
   ]
  },
  {
   "cell_type": "code",
   "execution_count": 49,
   "metadata": {},
   "outputs": [
    {
     "data": {
      "text/plain": [
       "(v00   -11.595691\n",
       " v01    -7.844798\n",
       " v02    -9.961797\n",
       " v03    -7.561448\n",
       " v04    -5.888516\n",
       " v05    -9.258999\n",
       " v06    -6.432005\n",
       " v07    -6.595271\n",
       " v08    -3.686212\n",
       " v09    -7.829308\n",
       " dtype: float64,\n",
       " v00    6.682056\n",
       " v01    6.079530\n",
       " v02    5.514811\n",
       " v03    7.006998\n",
       " v04    8.246789\n",
       " v05    7.737588\n",
       " v06    8.245940\n",
       " v07    4.879920\n",
       " v08    3.454343\n",
       " v09    8.640629\n",
       " dtype: float64)"
      ]
     },
     "execution_count": 49,
     "metadata": {},
     "output_type": "execute_result"
    }
   ],
   "source": [
    "\n",
    "df_recepie_vectors = pd.read_csv('data/embeddings/doc2vec_features_lowdim.csv').set_index('recepie_id')\n",
    "df_recepie_vectors.min(),df_recepie_vectors.max()"
   ]
  },
  {
   "cell_type": "code",
   "execution_count": 114,
   "metadata": {},
   "outputs": [
    {
     "data": {
      "text/plain": [
       "True"
      ]
     },
     "execution_count": 114,
     "metadata": {},
     "output_type": "execute_result"
    }
   ],
   "source": [
    "np.isnan(env._logs[i][\"val_losses\"][0])"
   ]
  },
  {
   "cell_type": "code",
   "execution_count": 112,
   "metadata": {},
   "outputs": [
    {
     "data": {
      "text/plain": [
       "False"
      ]
     },
     "execution_count": 112,
     "metadata": {},
     "output_type": "execute_result"
    }
   ],
   "source": [
    "env._logs[i][\"val_losses\"][0] == float('nan')"
   ]
  },
  {
   "cell_type": "code",
   "execution_count": 116,
   "metadata": {},
   "outputs": [],
   "source": [
    "def make_datasets(window_size):\n",
    "    X = []\n",
    "    best_val_losses = []\n",
    "    for i in tqdm(range(len(search_set))):\n",
    "        recepie_id = env._logs[i][\"recepie_id\"]\n",
    "        log = env._logs[i][\"val_losses\"]\n",
    "        if len(log) > window_size:\n",
    "            if np.isnan(np.min(log)):\n",
    "                continue\n",
    "            log_ = np.array([log[window_size]]) #log[:window_size] #\n",
    "            emb = df_recepie_vectors.loc[recepie_id].values\n",
    "            x = np.concatenate((log_, emb)).reshape(-1)\n",
    "            X.append(x)\n",
    "            best_val_losses.append(np.min(log))\n",
    "    X = np.stack(X)\n",
    "    best_val_losses = np.array(best_val_losses)\n",
    "    indexes = np.argsort(best_val_losses)[:int(len(best_val_losses) * 0.05)]\n",
    "    assert np.min(best_val_losses[indexes]) == np.min(best_val_losses)\n",
    "    Y = np.array([1 if i in indexes else 0 for i in range(len(X))])\n",
    "\n",
    "    X_train,  X_test, Y_train, Y_test = train_test_split(X, Y, test_size = 0.8, shuffle = True, random_state = 42)\n",
    "    X_train[X_train == np.inf] = 1000\n",
    "    X_test[X_test == np.inf] = 1000\n",
    "\n",
    "    balancer = RandomOverSampler()\n",
    "    balanced_train_x, balanced_train_y = balancer.fit_resample(X_train, Y_train)\n",
    "    return balanced_train_x,  X_test, balanced_train_y, Y_test\n",
    "        "
   ]
  },
  {
   "cell_type": "code",
   "execution_count": 118,
   "metadata": {},
   "outputs": [
    {
     "name": "stdout",
     "output_type": "stream",
     "text": [
      "\n"
     ]
    },
    {
     "name": "stderr",
     "output_type": "stream",
     "text": [
      "100%|██████████| 14322/14322 [00:00<00:00, 27089.98it/s]\n"
     ]
    },
    {
     "name": "stdout",
     "output_type": "stream",
     "text": [
      "Type: xgboost\n",
      "Window size: 40\n",
      "Train accuracy: 1.0\n",
      "Test accuracy: 0.9918103448275862\n",
      "Train confusion matrix:\n",
      "[[2208    0]\n",
      " [   0 2208]]\n",
      "Test confusion matrix:\n",
      "[[8759   53]\n",
      " [  23  445]]\n",
      "\n"
     ]
    },
    {
     "name": "stderr",
     "output_type": "stream",
     "text": [
      "100%|██████████| 14322/14322 [00:00<00:00, 28813.34it/s]\n"
     ]
    },
    {
     "name": "stdout",
     "output_type": "stream",
     "text": [
      "Type: xgboost\n",
      "Window size: 40\n",
      "Train accuracy: 1.0\n",
      "Test accuracy: 0.9915948275862069\n",
      "Train confusion matrix:\n",
      "[[2208    0]\n",
      " [   0 2208]]\n",
      "Test confusion matrix:\n",
      "[[8758   54]\n",
      " [  24  444]]\n",
      "\n"
     ]
    },
    {
     "name": "stderr",
     "output_type": "stream",
     "text": [
      "100%|██████████| 14322/14322 [00:00<00:00, 22912.52it/s]\n"
     ]
    },
    {
     "name": "stdout",
     "output_type": "stream",
     "text": [
      "Type: xgboost\n",
      "Window size: 40\n",
      "Train accuracy: 1.0\n",
      "Test accuracy: 0.9915948275862069\n",
      "Train confusion matrix:\n",
      "[[2208    0]\n",
      " [   0 2208]]\n",
      "Test confusion matrix:\n",
      "[[8757   55]\n",
      " [  23  445]]\n",
      "\n"
     ]
    },
    {
     "name": "stderr",
     "output_type": "stream",
     "text": [
      "100%|██████████| 14322/14322 [00:00<00:00, 29592.27it/s]\n"
     ]
    },
    {
     "name": "stdout",
     "output_type": "stream",
     "text": [
      "Type: xgboost\n",
      "Window size: 40\n",
      "Train accuracy: 1.0\n",
      "Test accuracy: 0.9914870689655172\n",
      "Train confusion matrix:\n",
      "[[2208    0]\n",
      " [   0 2208]]\n",
      "Test confusion matrix:\n",
      "[[8756   56]\n",
      " [  23  445]]\n",
      "\n"
     ]
    },
    {
     "name": "stderr",
     "output_type": "stream",
     "text": [
      "100%|██████████| 14322/14322 [00:00<00:00, 27855.12it/s]\n"
     ]
    },
    {
     "name": "stdout",
     "output_type": "stream",
     "text": [
      "Type: xgboost\n",
      "Window size: 40\n",
      "Train accuracy: 1.0\n",
      "Test accuracy: 0.9918103448275862\n",
      "Train confusion matrix:\n",
      "[[2208    0]\n",
      " [   0 2208]]\n",
      "Test confusion matrix:\n",
      "[[8757   55]\n",
      " [  21  447]]\n",
      "\n"
     ]
    },
    {
     "name": "stderr",
     "output_type": "stream",
     "text": [
      "100%|██████████| 14322/14322 [00:00<00:00, 29761.44it/s]\n"
     ]
    },
    {
     "name": "stdout",
     "output_type": "stream",
     "text": [
      "Type: xgboost\n",
      "Window size: 40\n",
      "Train accuracy: 1.0\n",
      "Test accuracy: 0.9917025862068966\n",
      "Train confusion matrix:\n",
      "[[2208    0]\n",
      " [   0 2208]]\n",
      "Test confusion matrix:\n",
      "[[8759   53]\n",
      " [  24  444]]\n",
      "\n"
     ]
    },
    {
     "name": "stderr",
     "output_type": "stream",
     "text": [
      "100%|██████████| 14322/14322 [00:00<00:00, 27548.56it/s]\n"
     ]
    },
    {
     "name": "stdout",
     "output_type": "stream",
     "text": [
      "Type: xgboost\n",
      "Window size: 40\n",
      "Train accuracy: 1.0\n",
      "Test accuracy: 0.9914870689655172\n",
      "Train confusion matrix:\n",
      "[[2208    0]\n",
      " [   0 2208]]\n",
      "Test confusion matrix:\n",
      "[[8758   54]\n",
      " [  25  443]]\n",
      "\n"
     ]
    },
    {
     "name": "stderr",
     "output_type": "stream",
     "text": [
      "100%|██████████| 14322/14322 [00:00<00:00, 28885.92it/s]\n"
     ]
    },
    {
     "name": "stdout",
     "output_type": "stream",
     "text": [
      "Type: xgboost\n",
      "Window size: 40\n",
      "Train accuracy: 1.0\n",
      "Test accuracy: 0.9918103448275862\n",
      "Train confusion matrix:\n",
      "[[2208    0]\n",
      " [   0 2208]]\n",
      "Test confusion matrix:\n",
      "[[8759   53]\n",
      " [  23  445]]\n"
     ]
    }
   ],
   "source": [
    "test_accs = []\n",
    "window_sizes = [5, 10, 15, 20, 25, 30, 35, 40]\n",
    "for window_size in window_sizes:\n",
    "    test_acc = classification(n, \"xgboost\")\n",
    "    test_accs.append(test_acc)"
   ]
  },
  {
   "cell_type": "code",
   "execution_count": 119,
   "metadata": {},
   "outputs": [
    {
     "data": {
      "text/plain": [
       "[<matplotlib.lines.Line2D at 0x22c8d0c5240>]"
      ]
     },
     "execution_count": 119,
     "metadata": {},
     "output_type": "execute_result"
    },
    {
     "data": {
      "image/png": "[encoded data removed]",
      "text/plain": [
       "<Figure size 640x480 with 1 Axes>"
      ]
     },
     "metadata": {},
     "output_type": "display_data"
    }
   ],
   "source": [
    "plt.plot(window_sizes, test_accs)"
   ]
  },
  {
   "cell_type": "code",
   "execution_count": null,
   "metadata": {},
   "outputs": [],
   "source": []
  },
  {
   "attachments": {},
   "cell_type": "markdown",
   "metadata": {},
   "source": [
    "## with cusum scores"
   ]
  },
  {
   "attachments": {},
   "cell_type": "markdown",
   "metadata": {},
   "source": []
  },
  {
   "cell_type": "code",
   "execution_count": 120,
   "metadata": {},
   "outputs": [],
   "source": [
    "def cusum_detector(series, threshold):\n",
    "    normal_to_change_stat, change_to_normal_stat  = np.zeros(len(series)), np.zeros(len(series))\n",
    "    normal_to_change_ind, change_to_normal_ind  = [], []\n",
    "    all_change_idxs = []\n",
    "    change_mask = np.zeros(len(series))\n",
    "    curr_start = -1 #добавила, тк вылетала ошибка (см. ниже)\n",
    "    for i in range(1, len(series)):\n",
    "        t = series[i] - series[i-1]\n",
    "        normal_to_change_stat[i] = max(0, normal_to_change_stat[i - 1] + t) # 0 -> delta?\n",
    "        change_to_normal_stat[i] = max(0, change_to_normal_stat[i - 1] - t)\n",
    "        \n",
    "        if normal_to_change_stat[i] > threshold:\n",
    "            curr_start = i\n",
    "            normal_to_change_ind.append(i)\n",
    "            normal_to_change_stat[i] = 0\n",
    "            all_change_idxs.append(i)\n",
    "        if change_to_normal_stat[i] > threshold:\n",
    "            change_to_normal_ind.append(i)\n",
    "            change_to_normal_stat[i] = 0\n",
    "            change_mask[curr_start: i + 1] = True # ошибка : curr_start использована до определения\n",
    "            all_change_idxs.append(i)\n",
    "            \n",
    "    all_change_idxs.append(len(series))\n",
    "    return change_mask, all_change_idxs, normal_to_change_stat, change_to_normal_stat"
   ]
  },
  {
   "cell_type": "code",
   "execution_count": 135,
   "metadata": {},
   "outputs": [
    {
     "name": "stderr",
     "output_type": "stream",
     "text": [
      "  0%|          | 0/14257 [00:00<?, ?it/s]C:\\Users\\makov\\AppData\\Local\\Temp\\ipykernel_30124\\3180448035.py:8: RuntimeWarning: invalid value encountered in double_scalars\n",
      "  t = series[i] - series[i-1]\n",
      "100%|██████████| 14257/14257 [00:06<00:00, 2133.21it/s]\n"
     ]
    }
   ],
   "source": [
    "thresholds = np.exp(np.linspace(-6, 3, 10))\n",
    "cusum_scores = []\n",
    "for val_loss in tqdm(val_losses):\n",
    "    tmp1 = []\n",
    "    tmp2 = []\n",
    "    for thr in thresholds:\n",
    "        change_mask, all_change_idxs, normal_to_change_stat, change_to_normal_stat = cusum_detector(val_loss, thr)\n",
    "        tmp1.append(normal_to_change_stat)\n",
    "        tmp2.append(change_to_normal_stat)\n",
    "    cusum_scores.append([tmp1, tmp2])"
   ]
  },
  {
   "cell_type": "code",
   "execution_count": 136,
   "metadata": {},
   "outputs": [
    {
     "data": {
      "text/plain": [
       "((14257, 20, 50), (14257, 50))"
      ]
     },
     "execution_count": 136,
     "metadata": {},
     "output_type": "execute_result"
    }
   ],
   "source": [
    "cusum_scores = np.array(cusum_scores)\n",
    "cusum_scores = cusum_scores.reshape(cusum_scores.shape[0], 20, 50)\n",
    "cusum_scores.shape, val_losses.shape"
   ]
  },
  {
   "cell_type": "code",
   "execution_count": 191,
   "metadata": {},
   "outputs": [],
   "source": [
    "def make_datasets(window_size):\n",
    "    X = val_losses[:, :window_size]  # np.expand_dims(val_losses[:, window_size], axis = 1) #\n",
    "\n",
    "    X = np.concatenate([np.expand_dims(val_losses[:, :window_size], axis = 1), cusum_scores[:,:,:window_size]], axis = 1)\n",
    "    X = X.reshape(X.shape[0], -1)\n",
    "    print(X.shape)\n",
    "    Y = np.array([1 if i in indexes else 0 for i in range(len(X))])\n",
    "    X_train,  X_test, Y_train, Y_test = train_test_split(X, Y, test_size = 0.2, shuffle = True, random_state = 42)\n",
    "    X_train[X_train == np.inf] = 1000\n",
    "    X_test[X_test == np.inf] = 1000\n",
    "\n",
    "    balancer = RandomUnderSampler()\n",
    "    balanced_train_x, balanced_train_y = balancer.fit_resample(X_train, Y_train)\n",
    "    return balanced_train_x,  X_test, balanced_train_y, Y_test\n"
   ]
  },
  {
   "cell_type": "code",
   "execution_count": 192,
   "metadata": {},
   "outputs": [
    {
     "name": "stdout",
     "output_type": "stream",
     "text": [
      "\n",
      "(14257, 840)\n",
      "Type: xgboost\n",
      "Window size: 40\n",
      "Train accuracy: 1.0\n",
      "Test accuracy: 0.9863253856942497\n",
      "Train confusion matrix:\n",
      "[[564   0]\n",
      " [  0 564]]\n",
      "Test confusion matrix:\n",
      "[[2665   39]\n",
      " [   0  148]]\n",
      "\n",
      "(14257, 840)\n",
      "Type: xgboost\n",
      "Window size: 40\n",
      "Train accuracy: 1.0\n",
      "Test accuracy: 0.9887798036465638\n",
      "Train confusion matrix:\n",
      "[[564   0]\n",
      " [  0 564]]\n",
      "Test confusion matrix:\n",
      "[[2673   31]\n",
      " [   1  147]]\n",
      "\n",
      "(14257, 840)\n",
      "Type: xgboost\n",
      "Window size: 40\n",
      "Train accuracy: 1.0\n",
      "Test accuracy: 0.9873772791023843\n",
      "Train confusion matrix:\n",
      "[[564   0]\n",
      " [  0 564]]\n",
      "Test confusion matrix:\n",
      "[[2669   35]\n",
      " [   1  147]]\n",
      "\n",
      "(14257, 840)\n",
      "Type: xgboost\n",
      "Window size: 40\n",
      "Train accuracy: 1.0\n",
      "Test accuracy: 0.9863253856942497\n",
      "Train confusion matrix:\n",
      "[[564   0]\n",
      " [  0 564]]\n",
      "Test confusion matrix:\n",
      "[[2667   37]\n",
      " [   2  146]]\n",
      "\n",
      "(14257, 840)\n",
      "Type: xgboost\n",
      "Window size: 40\n",
      "Train accuracy: 1.0\n",
      "Test accuracy: 0.991234221598878\n",
      "Train confusion matrix:\n",
      "[[564   0]\n",
      " [  0 564]]\n",
      "Test confusion matrix:\n",
      "[[2679   25]\n",
      " [   0  148]]\n",
      "\n",
      "(14257, 840)\n",
      "Type: xgboost\n",
      "Window size: 40\n",
      "Train accuracy: 1.0\n",
      "Test accuracy: 0.9863253856942497\n",
      "Train confusion matrix:\n",
      "[[564   0]\n",
      " [  0 564]]\n",
      "Test confusion matrix:\n",
      "[[2665   39]\n",
      " [   0  148]]\n",
      "\n",
      "(14257, 840)\n",
      "Type: xgboost\n",
      "Window size: 40\n",
      "Train accuracy: 1.0\n",
      "Test accuracy: 0.9891304347826086\n",
      "Train confusion matrix:\n",
      "[[564   0]\n",
      " [  0 564]]\n",
      "Test confusion matrix:\n",
      "[[2675   29]\n",
      " [   2  146]]\n",
      "\n",
      "(14257, 840)\n",
      "Type: xgboost\n",
      "Window size: 40\n",
      "Train accuracy: 1.0\n",
      "Test accuracy: 0.9908835904628331\n",
      "Train confusion matrix:\n",
      "[[564   0]\n",
      " [  0 564]]\n",
      "Test confusion matrix:\n",
      "[[2680   24]\n",
      " [   2  146]]\n"
     ]
    },
    {
     "data": {
      "text/plain": [
       "[<matplotlib.lines.Line2D at 0x22c8e3845b0>]"
      ]
     },
     "execution_count": 192,
     "metadata": {},
     "output_type": "execute_result"
    },
    {
     "data": {
      "image/png": "[encoded data removed]",
      "text/plain": [
       "<Figure size 640x480 with 1 Axes>"
      ]
     },
     "metadata": {},
     "output_type": "display_data"
    }
   ],
   "source": [
    "test_accs = []\n",
    "window_sizes = [5, 10, 15, 20, 25, 30, 35, 40]\n",
    "for window_size in window_sizes:\n",
    "    test_acc = classification(n, \"xgboost\")\n",
    "    test_accs.append(test_acc)\n",
    "\n",
    "plt.plot(window_sizes, test_accs)"
   ]
  },
  {
   "cell_type": "code",
   "execution_count": 188,
   "metadata": {},
   "outputs": [],
   "source": [
    "def make_datasets(window_size):\n",
    "    X = val_losses[:, :window_size]  # np.expand_dims(val_losses[:, window_size], axis = 1) #\n",
    "\n",
    "    X = np.expand_dims(val_losses[:, window_size], axis = 1)\n",
    "    X = np.concatenate([X, cusum_scores[:,:,:window_size].reshape(cusum_scores.shape[0], -1)], axis = 1)\n",
    "    X = X.reshape(X.shape[0], -1)\n",
    "    Y = np.array([1 if i in indexes else 0 for i in range(len(X))])\n",
    "    X_train,  X_test, Y_train, Y_test = train_test_split(X, Y, test_size = 0.2, shuffle = True, random_state = 42)\n",
    "    X_train[X_train == np.inf] = 1000\n",
    "    X_test[X_test == np.inf] = 1000\n",
    "\n",
    "    balancer = RandomUnderSampler()\n",
    "    balanced_train_x, balanced_train_y = balancer.fit_resample(X_train, Y_train)\n",
    "    return balanced_train_x,  X_test, balanced_train_y, Y_test\n"
   ]
  },
  {
   "cell_type": "code",
   "execution_count": 190,
   "metadata": {},
   "outputs": [
    {
     "name": "stdout",
     "output_type": "stream",
     "text": [
      "\n",
      "Type: xgboost\n",
      "Window size: 40\n",
      "Train accuracy: 1.0\n",
      "Test accuracy: 0.9891304347826086\n",
      "Train confusion matrix:\n",
      "[[564   0]\n",
      " [  0 564]]\n",
      "Test confusion matrix:\n",
      "[[2675   29]\n",
      " [   2  146]]\n",
      "\n",
      "Type: xgboost\n",
      "Window size: 40\n",
      "Train accuracy: 1.0\n",
      "Test accuracy: 0.9873772791023843\n",
      "Train confusion matrix:\n",
      "[[564   0]\n",
      " [  0 564]]\n",
      "Test confusion matrix:\n",
      "[[2669   35]\n",
      " [   1  147]]\n",
      "\n",
      "Type: xgboost\n",
      "Window size: 40\n",
      "Train accuracy: 1.0\n",
      "Test accuracy: 0.9887798036465638\n",
      "Train confusion matrix:\n",
      "[[564   0]\n",
      " [  0 564]]\n",
      "Test confusion matrix:\n",
      "[[2673   31]\n",
      " [   1  147]]\n",
      "\n",
      "Type: xgboost\n",
      "Window size: 40\n",
      "Train accuracy: 1.0\n",
      "Test accuracy: 0.9894810659186536\n",
      "Train confusion matrix:\n",
      "[[564   0]\n",
      " [  0 564]]\n",
      "Test confusion matrix:\n",
      "[[2675   29]\n",
      " [   1  147]]\n",
      "\n",
      "Type: xgboost\n",
      "Window size: 40\n",
      "Train accuracy: 1.0\n",
      "Test accuracy: 0.988078541374474\n",
      "Train confusion matrix:\n",
      "[[564   0]\n",
      " [  0 564]]\n",
      "Test confusion matrix:\n",
      "[[2671   33]\n",
      " [   1  147]]\n",
      "\n",
      "Type: xgboost\n",
      "Window size: 40\n",
      "Train accuracy: 1.0\n",
      "Test accuracy: 0.9877279102384292\n",
      "Train confusion matrix:\n",
      "[[564   0]\n",
      " [  0 564]]\n",
      "Test confusion matrix:\n",
      "[[2670   34]\n",
      " [   1  147]]\n",
      "\n",
      "Type: xgboost\n",
      "Window size: 40\n",
      "Train accuracy: 1.0\n",
      "Test accuracy: 0.9873772791023843\n",
      "Train confusion matrix:\n",
      "[[564   0]\n",
      " [  0 564]]\n",
      "Test confusion matrix:\n",
      "[[2670   34]\n",
      " [   2  146]]\n",
      "\n",
      "Type: xgboost\n",
      "Window size: 40\n",
      "Train accuracy: 1.0\n",
      "Test accuracy: 0.9877279102384292\n",
      "Train confusion matrix:\n",
      "[[564   0]\n",
      " [  0 564]]\n",
      "Test confusion matrix:\n",
      "[[2670   34]\n",
      " [   1  147]]\n"
     ]
    },
    {
     "data": {
      "text/plain": [
       "[<matplotlib.lines.Line2D at 0x22c8e41a800>]"
      ]
     },
     "execution_count": 190,
     "metadata": {},
     "output_type": "execute_result"
    },
    {
     "data": {
      "image/png": "[encoded data removed]",
      "text/plain": [
       "<Figure size 640x480 with 1 Axes>"
      ]
     },
     "metadata": {},
     "output_type": "display_data"
    }
   ],
   "source": [
    "test_accs = []\n",
    "window_sizes = [5, 10, 15, 20, 25, 30, 35, 40]\n",
    "for window_size in window_sizes:\n",
    "    test_acc = classification(n, \"xgboost\")\n",
    "    test_accs.append(test_acc)\n",
    "\n",
    "plt.plot(window_sizes, test_accs)"
   ]
  },
  {
   "cell_type": "code",
   "execution_count": 193,
   "metadata": {},
   "outputs": [],
   "source": [
    "def make_datasets(window_size):\n",
    "    X = val_losses[:, :window_size]  # np.expand_dims(val_losses[:, window_size], axis = 1) #\n",
    "\n",
    "    X = np.expand_dims(val_losses[:, window_size], axis = 1)\n",
    "    X = np.concatenate([X, cusum_scores[:,:,window_size].reshape(cusum_scores.shape[0], -1)], axis = 1)\n",
    "    X = X.reshape(X.shape[0], -1)\n",
    "    Y = np.array([1 if i in indexes else 0 for i in range(len(X))])\n",
    "    X_train,  X_test, Y_train, Y_test = train_test_split(X, Y, test_size = 0.2, shuffle = True, random_state = 42)\n",
    "    X_train[X_train == np.inf] = 1000\n",
    "    X_test[X_test == np.inf] = 1000\n",
    "\n",
    "    balancer = RandomUnderSampler()\n",
    "    balanced_train_x, balanced_train_y = balancer.fit_resample(X_train, Y_train)\n",
    "    return balanced_train_x,  X_test, balanced_train_y, Y_test\n"
   ]
  },
  {
   "cell_type": "code",
   "execution_count": 195,
   "metadata": {},
   "outputs": [
    {
     "name": "stdout",
     "output_type": "stream",
     "text": [
      "\n",
      "Type: xgboost\n",
      "Window size: 40\n",
      "Train accuracy: 0.9964539007092199\n",
      "Test accuracy: 0.988429172510519\n",
      "Train confusion matrix:\n",
      "[[564   0]\n",
      " [  4 560]]\n",
      "Test confusion matrix:\n",
      "[[2672   32]\n",
      " [   1  147]]\n",
      "\n",
      "Type: xgboost\n",
      "Window size: 40\n",
      "Train accuracy: 0.9964539007092199\n",
      "Test accuracy: 0.9908835904628331\n",
      "Train confusion matrix:\n",
      "[[564   0]\n",
      " [  4 560]]\n",
      "Test confusion matrix:\n",
      "[[2679   25]\n",
      " [   1  147]]\n",
      "\n",
      "Type: xgboost\n",
      "Window size: 40\n",
      "Train accuracy: 0.9964539007092199\n",
      "Test accuracy: 0.988078541374474\n",
      "Train confusion matrix:\n",
      "[[564   0]\n",
      " [  4 560]]\n",
      "Test confusion matrix:\n",
      "[[2671   33]\n",
      " [   1  147]]\n",
      "\n",
      "Type: xgboost\n",
      "Window size: 40\n",
      "Train accuracy: 0.9964539007092199\n",
      "Test accuracy: 0.9891304347826086\n",
      "Train confusion matrix:\n",
      "[[564   0]\n",
      " [  4 560]]\n",
      "Test confusion matrix:\n",
      "[[2674   30]\n",
      " [   1  147]]\n",
      "\n",
      "Type: xgboost\n",
      "Window size: 40\n",
      "Train accuracy: 0.9964539007092199\n",
      "Test accuracy: 0.9877279102384292\n",
      "Train confusion matrix:\n",
      "[[564   0]\n",
      " [  4 560]]\n",
      "Test confusion matrix:\n",
      "[[2670   34]\n",
      " [   1  147]]\n",
      "\n",
      "Type: xgboost\n",
      "Window size: 40\n",
      "Train accuracy: 0.9964539007092199\n",
      "Test accuracy: 0.9898316970546984\n",
      "Train confusion matrix:\n",
      "[[564   0]\n",
      " [  4 560]]\n",
      "Test confusion matrix:\n",
      "[[2677   27]\n",
      " [   2  146]]\n",
      "\n",
      "Type: xgboost\n",
      "Window size: 40\n",
      "Train accuracy: 0.9964539007092199\n",
      "Test accuracy: 0.9898316970546984\n",
      "Train confusion matrix:\n",
      "[[564   0]\n",
      " [  4 560]]\n",
      "Test confusion matrix:\n",
      "[[2676   28]\n",
      " [   1  147]]\n",
      "\n",
      "Type: xgboost\n",
      "Window size: 40\n",
      "Train accuracy: 0.9964539007092199\n",
      "Test accuracy: 0.9901823281907434\n",
      "Train confusion matrix:\n",
      "[[564   0]\n",
      " [  4 560]]\n",
      "Test confusion matrix:\n",
      "[[2678   26]\n",
      " [   2  146]]\n"
     ]
    },
    {
     "data": {
      "text/plain": [
       "[<matplotlib.lines.Line2D at 0x22c8e404790>]"
      ]
     },
     "execution_count": 195,
     "metadata": {},
     "output_type": "execute_result"
    },
    {
     "data": {
      "image/png": "[encoded data removed]",
      "text/plain": [
       "<Figure size 640x480 with 1 Axes>"
      ]
     },
     "metadata": {},
     "output_type": "display_data"
    }
   ],
   "source": [
    "test_accs = []\n",
    "window_sizes = [5, 10, 15, 20, 25, 30, 35, 40]\n",
    "for window_size in window_sizes:\n",
    "    test_acc = classification(n, \"xgboost\")\n",
    "    test_accs.append(test_acc)\n",
    "\n",
    "plt.plot(window_sizes, test_accs)"
   ]
  },
  {
   "cell_type": "code",
   "execution_count": null,
   "metadata": {},
   "outputs": [],
   "source": []
  },
  {
   "attachments": {},
   "cell_type": "markdown",
   "metadata": {},
   "source": [
    "## Regression "
   ]
  },
  {
   "cell_type": "code",
   "execution_count": 241,
   "metadata": {},
   "outputs": [],
   "source": [
    "def make_datasets(window_size):\n",
    "    X = []\n",
    "    Y = []\n",
    "    best_val_losses = []\n",
    "    for i in tqdm(range(len(search_set))):\n",
    "        recepie_id = env._logs[i][\"recepie_id\"]\n",
    "        log = env._logs[i][\"val_losses\"]\n",
    "        if len(log) > window_size:\n",
    "            if np.isnan(np.min(log)):\n",
    "                continue\n",
    "            log_ = log[:window_size] #np.array([log[window_size]]) #\n",
    "            #emb = df_recepie_vectors.loc[recepie_id].values\n",
    "            x = log_ #x = np.concatenate((log_, emb)).reshape(-1)\n",
    "            X.append(x)\n",
    "            Y.append(np.min(log))\n",
    "            best_val_losses.append(np.min(log))\n",
    "    X = np.stack(X)\n",
    "    Y = np.stack(Y)\n",
    "    best_val_losses = np.array(best_val_losses)\n",
    "    indexes = np.argsort(best_val_losses)[:int(len(best_val_losses) * 0.05)]\n",
    "    assert np.min(best_val_losses[indexes]) == np.min(best_val_losses)\n",
    "    classes = np.array([1 if i in indexes else 0 for i in range(len(X))])\n",
    "\n",
    "\n",
    "    X_train,  X_test, Y_train, Y_test, classes_train, classes_test = train_test_split(X, Y, classes, test_size = 0.8, shuffle = True, random_state = 42)\n",
    "    X_train[X_train == np.inf] = 1000\n",
    "    X_test[X_test == np.inf] = 1000\n",
    "\n",
    "    return X_train,  X_test, Y_train, Y_test, classes_train, classes_test\n",
    "        "
   ]
  },
  {
   "cell_type": "code",
   "execution_count": 242,
   "metadata": {},
   "outputs": [],
   "source": [
    "from sklearn.model_selection import train_test_split\n",
    "\n",
    "from sklearn.neural_network import MLPRegressor\n",
    "from sklearn.gaussian_process import GaussianProcessRegressor\n",
    "from sklearn.ensemble import RandomForestRegressor, AdaBoostRegressor\n",
    "from sklearn.neighbors import KNeighborsRegressor\n",
    "from xgboost import XGBRegressor\n",
    "\n",
    "from sklearn.metrics import confusion_matrix"
   ]
  },
  {
   "cell_type": "code",
   "execution_count": 243,
   "metadata": {},
   "outputs": [],
   "source": [
    "def regression(window_size, type = \"MLP\"):\n",
    "    print(\"\")\n",
    "    X_train, X_test, Y_train, Y_test, classes_train, classes_test = make_datasets(window_size)\n",
    "    if type == \"MLP\":\n",
    "        clf = MLPRegressor(max_iter = 1000, random_state = 42).fit(X_train, Y_train)\n",
    "    elif type == \"Forest\":\n",
    "        clf = RandomForestRegressor(random_state = 42).fit(X_train, Y_train)\n",
    "    elif type == \"Gauss\":\n",
    "        clf = GaussianProcessRegressor(random_state = 42).fit(X_train, Y_train)\n",
    "    elif type == \"Neighbors\":\n",
    "        clf = KNeighborsRegressor().fit(X_train, Y_train)\n",
    "    elif type == \"Ada\":\n",
    "        clf = AdaBoostRegressor(random_state = 42).fit(X_train, Y_train)\n",
    "    elif type == \"xgboost\":\n",
    "        clf = XGBRegressor(n_jobs=-1).fit(X_train, Y_train)\n",
    "        \n",
    "    print(\"Type:\", type)\n",
    "    print(\"Window size:\", window_size)\n",
    "    print(\"Train loss:\", clf.score(X_train, Y_train)) # score returns the coefficient of determination of the prediction.\n",
    "    print(\"Test loss:\", clf.score(X_test, Y_test))\n",
    "    pred_y_train = clf.predict(X_train)\n",
    "    pred_y_test = clf.predict(X_test)\n",
    "\n",
    "    indexes_train = np.argsort(pred_y_train)[:int(len(pred_y_train) * 0.05)]\n",
    "    pred_classes_train = np.array([1 if i in indexes_train else 0 for i in range(len(pred_y_train))])\n",
    "\n",
    "    indexes_test = np.argsort(pred_y_test)[:int(len(pred_y_test) * 0.05)]\n",
    "    pred_classes_test = np.array([1 if i in indexes_test else 0 for i in range(len(pred_y_test))])\n",
    "    \n",
    "    train_acc = np.sum(pred_classes_train == classes_train) / len(classes_train)\n",
    "    test_acc = np.sum(pred_classes_test == classes_test) / len(classes_test)\n",
    "\n",
    "    print(\"Train acc:\", train_acc)\n",
    "    print(\"Test acc:\", test_acc)\n",
    "\n",
    "    return clf.score(X_test, Y_test), test_acc"
   ]
  },
  {
   "cell_type": "code",
   "execution_count": 244,
   "metadata": {},
   "outputs": [
    {
     "name": "stdout",
     "output_type": "stream",
     "text": [
      "\n"
     ]
    },
    {
     "name": "stderr",
     "output_type": "stream",
     "text": [
      "100%|██████████| 14322/14322 [00:00<00:00, 80431.92it/s]\n"
     ]
    },
    {
     "name": "stdout",
     "output_type": "stream",
     "text": [
      "Type: xgboost\n",
      "Window size: 5\n",
      "Train loss: 0.9988587912575824\n",
      "Test loss: 0.9235283897554096\n",
      "Train acc: 0.985351141749246\n",
      "Test acc: 0.9674709177078845\n",
      "\n"
     ]
    },
    {
     "name": "stderr",
     "output_type": "stream",
     "text": [
      "100%|██████████| 14322/14322 [00:00<00:00, 58609.34it/s]\n"
     ]
    },
    {
     "name": "stdout",
     "output_type": "stream",
     "text": [
      "Type: xgboost\n",
      "Window size: 10\n",
      "Train loss: 0.9996078394170105\n",
      "Test loss: 0.9462925886275054\n",
      "Train acc: 0.9913793103448276\n",
      "Test acc: 0.9767266458355781\n",
      "\n"
     ]
    },
    {
     "name": "stderr",
     "output_type": "stream",
     "text": [
      "100%|██████████| 14322/14322 [00:00<00:00, 59000.78it/s]\n"
     ]
    },
    {
     "name": "stdout",
     "output_type": "stream",
     "text": [
      "Type: xgboost\n",
      "Window size: 15\n",
      "Train loss: 0.9998111730578577\n",
      "Test loss: 0.9574033050671917\n",
      "Train acc: 0.9939655172413793\n",
      "Test acc: 0.980605538196315\n",
      "\n"
     ]
    },
    {
     "name": "stderr",
     "output_type": "stream",
     "text": [
      "100%|██████████| 14322/14322 [00:00<00:00, 58218.37it/s]\n"
     ]
    },
    {
     "name": "stdout",
     "output_type": "stream",
     "text": [
      "Type: xgboost\n",
      "Window size: 20\n",
      "Train loss: 0.9999079200837361\n",
      "Test loss: 0.9675392504328324\n",
      "Train acc: 0.9956896551724138\n",
      "Test acc: 0.9831914664368063\n",
      "\n"
     ]
    },
    {
     "name": "stderr",
     "output_type": "stream",
     "text": [
      "100%|██████████| 14322/14322 [00:00<00:00, 56023.93it/s]\n"
     ]
    },
    {
     "name": "stdout",
     "output_type": "stream",
     "text": [
      "Type: xgboost\n",
      "Window size: 25\n",
      "Train loss: 0.9999394289524457\n",
      "Test loss: 0.9763158329035855\n",
      "Train acc: 0.9961206896551724\n",
      "Test acc: 0.9860991379310344\n",
      "\n"
     ]
    },
    {
     "name": "stderr",
     "output_type": "stream",
     "text": [
      "100%|██████████| 14322/14322 [00:00<00:00, 54961.49it/s]\n"
     ]
    },
    {
     "name": "stdout",
     "output_type": "stream",
     "text": [
      "Type: xgboost\n",
      "Window size: 30\n",
      "Train loss: 0.9999610974173994\n",
      "Test loss: 0.9793691003721114\n",
      "Train acc: 0.9969827586206896\n",
      "Test acc: 0.9882543103448276\n",
      "\n"
     ]
    },
    {
     "name": "stderr",
     "output_type": "stream",
     "text": [
      "100%|██████████| 14322/14322 [00:00<00:00, 57911.87it/s]\n"
     ]
    },
    {
     "name": "stdout",
     "output_type": "stream",
     "text": [
      "Type: xgboost\n",
      "Window size: 35\n",
      "Train loss: 0.9999774792770202\n",
      "Test loss: 0.9875852876805961\n",
      "Train acc: 0.9952586206896552\n",
      "Test acc: 0.9914870689655172\n",
      "\n"
     ]
    },
    {
     "name": "stderr",
     "output_type": "stream",
     "text": [
      "100%|██████████| 14322/14322 [00:00<00:00, 58467.58it/s]\n"
     ]
    },
    {
     "name": "stdout",
     "output_type": "stream",
     "text": [
      "Type: xgboost\n",
      "Window size: 40\n",
      "Train loss: 0.9999855154978597\n",
      "Test loss: 0.9909458320394696\n",
      "Train acc: 0.9982751185855973\n",
      "Test acc: 0.9920258620689655\n"
     ]
    },
    {
     "data": {
      "text/plain": [
       "<matplotlib.legend.Legend at 0x22c9a724700>"
      ]
     },
     "execution_count": 244,
     "metadata": {},
     "output_type": "execute_result"
    },
    {
     "data": {
      "image/png": "[encoded data removed]",
      "text/plain": [
       "<Figure size 640x480 with 1 Axes>"
      ]
     },
     "metadata": {},
     "output_type": "display_data"
    }
   ],
   "source": [
    "test_scores = []\n",
    "window_sizes = [5, 10, 15, 20, 25, 30, 35, 40]\n",
    "for window_size in window_sizes:\n",
    "    test_loss = regression(window_size, \"xgboost\")\n",
    "    test_scores.append(test_loss)\n",
    "\n",
    "plt.plot(window_sizes, test_scores, label = [\"score\", \"acc\"])\n",
    "plt.legend()"
   ]
  },
  {
   "cell_type": "code",
   "execution_count": null,
   "metadata": {},
   "outputs": [],
   "source": []
  },
  {
   "cell_type": "code",
   "execution_count": 235,
   "metadata": {},
   "outputs": [],
   "source": [
    "def make_datasets(window_size):\n",
    "    X = []\n",
    "    Y = []\n",
    "    best_val_losses = []\n",
    "    for i in tqdm(range(len(search_set))):\n",
    "        recepie_id = env._logs[i][\"recepie_id\"]\n",
    "        log = env._logs[i][\"val_losses\"]\n",
    "        if len(log) > window_size:\n",
    "            if np.isnan(np.min(log)):\n",
    "                continue\n",
    "            log_ = [log[window_size]] #np.array([log[window_size]]) #\n",
    "            #emb = df_recepie_vectors.loc[recepie_id].values\n",
    "            x = log_ #x = np.concatenate((log_, emb)).reshape(-1)\n",
    "            X.append(x)\n",
    "            Y.append(np.min(log))\n",
    "            best_val_losses.append(np.min(log))\n",
    "    X = np.stack(X)\n",
    "    Y = np.stack(Y)\n",
    "    best_val_losses = np.array(best_val_losses)\n",
    "    indexes = np.argsort(best_val_losses)[:int(len(best_val_losses) * 0.05)]\n",
    "    assert np.min(best_val_losses[indexes]) == np.min(best_val_losses)\n",
    "    classes = np.array([1 if i in indexes else 0 for i in range(len(X))])\n",
    "\n",
    "\n",
    "    X_train,  X_test, Y_train, Y_test, classes_train, classes_test = train_test_split(X, Y, classes, test_size = 0.8, shuffle = True, random_state = 42)\n",
    "    X_train[X_train == np.inf] = 1000\n",
    "    X_test[X_test == np.inf] = 1000\n",
    "\n",
    "    return X_train,  X_test, Y_train, Y_test, classes_train, classes_test\n",
    "        "
   ]
  },
  {
   "cell_type": "code",
   "execution_count": 238,
   "metadata": {},
   "outputs": [
    {
     "name": "stdout",
     "output_type": "stream",
     "text": [
      "\n"
     ]
    },
    {
     "name": "stderr",
     "output_type": "stream",
     "text": [
      "100%|██████████| 14322/14322 [00:00<00:00, 76480.08it/s]\n"
     ]
    },
    {
     "name": "stdout",
     "output_type": "stream",
     "text": [
      "Type: xgboost\n",
      "Window size: 5\n",
      "Train loss: 0.9853618343260625\n",
      "Test loss: 0.8579419223108178\n",
      "Train acc: 0.96122361051271\n",
      "Test acc: 0.9618698836708316\n",
      "\n"
     ]
    },
    {
     "name": "stderr",
     "output_type": "stream",
     "text": [
      "100%|██████████| 14322/14322 [00:00<00:00, 59955.89it/s]\n"
     ]
    },
    {
     "name": "stdout",
     "output_type": "stream",
     "text": [
      "Type: xgboost\n",
      "Window size: 10\n",
      "Train loss: 0.9918580550544016\n",
      "Test loss: 0.8975841733544252\n",
      "Train acc: 0.9775862068965517\n",
      "Test acc: 0.9711238013145135\n",
      "\n"
     ]
    },
    {
     "name": "stderr",
     "output_type": "stream",
     "text": [
      "100%|██████████| 14322/14322 [00:00<00:00, 57505.67it/s]\n"
     ]
    },
    {
     "name": "stdout",
     "output_type": "stream",
     "text": [
      "Type: xgboost\n",
      "Window size: 15\n",
      "Train loss: 0.9963370903805981\n",
      "Test loss: 0.9133553563850743\n",
      "Train acc: 0.978448275862069\n",
      "Test acc: 0.9799590561361923\n",
      "\n"
     ]
    },
    {
     "name": "stderr",
     "output_type": "stream",
     "text": [
      "100%|██████████| 14322/14322 [00:00<00:00, 51450.85it/s]\n"
     ]
    },
    {
     "name": "stdout",
     "output_type": "stream",
     "text": [
      "Type: xgboost\n",
      "Window size: 20\n",
      "Train loss: 0.9976255356372347\n",
      "Test loss: 0.9249008897062965\n",
      "Train acc: 0.9844827586206897\n",
      "Test acc: 0.9831914664368063\n",
      "\n"
     ]
    },
    {
     "name": "stderr",
     "output_type": "stream",
     "text": [
      "100%|██████████| 14322/14322 [00:00<00:00, 54966.97it/s]\n"
     ]
    },
    {
     "name": "stdout",
     "output_type": "stream",
     "text": [
      "Type: xgboost\n",
      "Window size: 25\n",
      "Train loss: 0.9986948190236651\n",
      "Test loss: 0.9572672011853968\n",
      "Train acc: 0.9900862068965517\n",
      "Test acc: 0.983728448275862\n",
      "\n"
     ]
    },
    {
     "name": "stderr",
     "output_type": "stream",
     "text": [
      "100%|██████████| 14322/14322 [00:00<00:00, 58339.14it/s]\n"
     ]
    },
    {
     "name": "stdout",
     "output_type": "stream",
     "text": [
      "Type: xgboost\n",
      "Window size: 30\n",
      "Train loss: 0.9994260900477132\n",
      "Test loss: 0.9656239091953619\n",
      "Train acc: 0.9943965517241379\n",
      "Test acc: 0.9882543103448276\n",
      "\n"
     ]
    },
    {
     "name": "stderr",
     "output_type": "stream",
     "text": [
      "100%|██████████| 14322/14322 [00:00<00:00, 55288.73it/s]\n"
     ]
    },
    {
     "name": "stdout",
     "output_type": "stream",
     "text": [
      "Type: xgboost\n",
      "Window size: 35\n",
      "Train loss: 0.999697782786526\n",
      "Test loss: 0.9818662662932444\n",
      "Train acc: 0.9943965517241379\n",
      "Test acc: 0.9923491379310345\n",
      "\n"
     ]
    },
    {
     "name": "stderr",
     "output_type": "stream",
     "text": [
      "100%|██████████| 14322/14322 [00:00<00:00, 58207.77it/s]\n"
     ]
    },
    {
     "name": "stdout",
     "output_type": "stream",
     "text": [
      "Type: xgboost\n",
      "Window size: 40\n",
      "Train loss: 0.999856955318316\n",
      "Test loss: 0.9804929859073797\n",
      "Train acc: 0.9913755929279862\n",
      "Test acc: 0.9933189655172414\n"
     ]
    },
    {
     "data": {
      "text/plain": [
       "<matplotlib.legend.Legend at 0x22c9a7ce800>"
      ]
     },
     "execution_count": 238,
     "metadata": {},
     "output_type": "execute_result"
    },
    {
     "data": {
      "image/png": "[encoded data removed]",
      "text/plain": [
       "<Figure size 640x480 with 1 Axes>"
      ]
     },
     "metadata": {},
     "output_type": "display_data"
    }
   ],
   "source": [
    "test_scores = []\n",
    "window_sizes = [5, 10, 15, 20, 25, 30, 35, 40]\n",
    "for window_size in window_sizes:\n",
    "    test_loss = regression(window_size, \"xgboost\")\n",
    "    test_scores.append(test_loss)\n",
    "\n",
    "plt.plot(window_sizes, test_scores, label = [\"score\", \"acc\"])\n",
    "plt.legend()"
   ]
  },
  {
   "cell_type": "code",
   "execution_count": 245,
   "metadata": {},
   "outputs": [
    {
     "name": "stderr",
     "output_type": "stream",
     "text": [
      "100%|██████████| 14322/14322 [00:00<00:00, 81787.32it/s]\n"
     ]
    }
   ],
   "source": [
    "X_train,  X_test, Y_train, Y_test, classes_train, classes_test =  make_datasets(10)"
   ]
  },
  {
   "cell_type": "code",
   "execution_count": 286,
   "metadata": {},
   "outputs": [
    {
     "data": {
      "application/vnd.jupyter.widget-view+json": {
       "model_id": "809b48d7db31497fb0ff796563f27f32",
       "version_major": 2,
       "version_minor": 0
      },
      "text/plain": [
       "MetricVisualizer(layout=Layout(align_self='stretch', height='500px'))"
      ]
     },
     "metadata": {},
     "output_type": "display_data"
    },
    {
     "data": {
      "text/plain": [
       "<catboost.core.CatBoostRegressor at 0x22c9ebba2f0>"
      ]
     },
     "execution_count": 286,
     "metadata": {},
     "output_type": "execute_result"
    }
   ],
   "source": [
    "from catboost import CatBoostRegressor\n",
    "\n",
    "model = CatBoostRegressor(random_seed=42, iterations=1000, learning_rate=0.01, \n",
    "                                  loss_function='RMSEWithUncertainty', posterior_sampling=True,\n",
    "                                  verbose=False)\n",
    "model.fit(X_train, Y_train, eval_set=(X_test, Y_test), plot = True)\n"
   ]
  },
  {
   "cell_type": "code",
   "execution_count": 287,
   "metadata": {},
   "outputs": [],
   "source": [
    "preds = model.predict(X_test)"
   ]
  },
  {
   "cell_type": "code",
   "execution_count": 288,
   "metadata": {},
   "outputs": [
    {
     "data": {
      "text/plain": [
       "(array([ 11.,  22.,  91., 344., 317., 297., 324., 517., 500., 396., 494.,\n",
       "        547., 564., 439., 285., 253., 212., 222., 229., 280., 180., 224.,\n",
       "        270., 141., 161., 114.,  84.,  35.,  40.,  24.,  11.,  12.,   7.,\n",
       "         12.,   3.,   3.,   6.,   8.,   5.,   4.,   2.,   3.,   5.,   3.,\n",
       "          1.,   0.,   0.,   4.,   0.,   3.,   1.,   5.,  12.,   5.,  34.,\n",
       "         65.,  39.,  34.,  36.,  39.,  34.,  35.,  31.,  28.,  30.,  33.,\n",
       "         41.,  60.,  59.,  86., 107., 168.,  93.,  39.,  38.,  53.,  49.,\n",
       "         85.,  32., 116.,  43.,  14.,  10.,   1.,   0.,   0.,   0.,   1.,\n",
       "          0.,   0.,   0.,   0.,   0.,   0.,   0.,   0.,   0.,   0.,   0.,\n",
       "         16.]),\n",
       " array([4.61072396, 4.63473525, 4.65874655, 4.68275785, 4.70676914,\n",
       "        4.73078044, 4.75479174, 4.77880303, 4.80281433, 4.82682563,\n",
       "        4.85083692, 4.87484822, 4.89885952, 4.92287082, 4.94688211,\n",
       "        4.97089341, 4.99490471, 5.018916  , 5.0429273 , 5.0669386 ,\n",
       "        5.09094989, 5.11496119, 5.13897249, 5.16298378, 5.18699508,\n",
       "        5.21100638, 5.23501768, 5.25902897, 5.28304027, 5.30705157,\n",
       "        5.33106286, 5.35507416, 5.37908546, 5.40309675, 5.42710805,\n",
       "        5.45111935, 5.47513064, 5.49914194, 5.52315324, 5.54716453,\n",
       "        5.57117583, 5.59518713, 5.61919843, 5.64320972, 5.66722102,\n",
       "        5.69123232, 5.71524361, 5.73925491, 5.76326621, 5.7872775 ,\n",
       "        5.8112888 , 5.8353001 , 5.85931139, 5.88332269, 5.90733399,\n",
       "        5.93134529, 5.95535658, 5.97936788, 6.00337918, 6.02739047,\n",
       "        6.05140177, 6.07541307, 6.09942436, 6.12343566, 6.14744696,\n",
       "        6.17145825, 6.19546955, 6.21948085, 6.24349214, 6.26750344,\n",
       "        6.29151474, 6.31552604, 6.33953733, 6.36354863, 6.38755993,\n",
       "        6.41157122, 6.43558252, 6.45959382, 6.48360511, 6.50761641,\n",
       "        6.53162771, 6.555639  , 6.5796503 , 6.6036616 , 6.6276729 ,\n",
       "        6.65168419, 6.67569549, 6.69970679, 6.72371808, 6.74772938,\n",
       "        6.77174068, 6.79575197, 6.81976327, 6.84377457, 6.86778586,\n",
       "        6.89179716, 6.91580846, 6.93981975, 6.96383105, 6.98784235,\n",
       "        7.01185365]),\n",
       " <BarContainer object of 100 artists>)"
      ]
     },
     "execution_count": 288,
     "metadata": {},
     "output_type": "execute_result"
    },
    {
     "data": {
      "image/png": "[encoded data removed]",
      "text/plain": [
       "<Figure size 640x480 with 1 Axes>"
      ]
     },
     "metadata": {},
     "output_type": "display_data"
    }
   ],
   "source": [
    "plt.hist(preds[:, 0], bins = 100)"
   ]
  },
  {
   "cell_type": "code",
   "execution_count": 289,
   "metadata": {},
   "outputs": [
    {
     "data": {
      "text/plain": [
       "(array([7.675e+03, 4.100e+02, 1.460e+02, 1.410e+02, 1.070e+02, 9.500e+01,\n",
       "        5.600e+01, 4.900e+01, 6.000e+01, 3.400e+01, 1.400e+01, 2.200e+01,\n",
       "        2.800e+01, 1.100e+01, 2.000e+01, 1.600e+01, 1.300e+01, 1.100e+01,\n",
       "        2.400e+01, 2.200e+01, 8.000e+00, 1.100e+01, 1.200e+01, 2.000e+01,\n",
       "        1.000e+01, 1.000e+01, 1.000e+01, 1.000e+01, 6.000e+00, 9.000e+00,\n",
       "        1.400e+01, 1.500e+01, 1.100e+01, 1.800e+01, 1.900e+01, 2.000e+01,\n",
       "        1.800e+01, 2.500e+01, 2.100e+01, 3.200e+01, 1.200e+01, 0.000e+00,\n",
       "        0.000e+00, 0.000e+00, 0.000e+00, 0.000e+00, 0.000e+00, 0.000e+00,\n",
       "        0.000e+00, 0.000e+00, 0.000e+00, 0.000e+00, 0.000e+00, 0.000e+00,\n",
       "        0.000e+00, 0.000e+00, 0.000e+00, 0.000e+00, 0.000e+00, 0.000e+00,\n",
       "        0.000e+00, 0.000e+00, 0.000e+00, 0.000e+00, 0.000e+00, 0.000e+00,\n",
       "        0.000e+00, 0.000e+00, 0.000e+00, 0.000e+00, 0.000e+00, 0.000e+00,\n",
       "        0.000e+00, 0.000e+00, 0.000e+00, 0.000e+00, 0.000e+00, 0.000e+00,\n",
       "        0.000e+00, 0.000e+00, 0.000e+00, 0.000e+00, 0.000e+00, 0.000e+00,\n",
       "        0.000e+00, 0.000e+00, 0.000e+00, 0.000e+00, 0.000e+00, 0.000e+00,\n",
       "        0.000e+00, 0.000e+00, 0.000e+00, 0.000e+00, 0.000e+00, 0.000e+00,\n",
       "        0.000e+00, 0.000e+00, 0.000e+00, 1.600e+01]),\n",
       " array([5.35360636e-05, 6.91833532e-03, 1.37831346e-02, 2.06479338e-02,\n",
       "        2.75127331e-02, 3.43775323e-02, 4.12423316e-02, 4.81071309e-02,\n",
       "        5.49719301e-02, 6.18367294e-02, 6.87015286e-02, 7.55663279e-02,\n",
       "        8.24311271e-02, 8.92959264e-02, 9.61607257e-02, 1.03025525e-01,\n",
       "        1.09890324e-01, 1.16755123e-01, 1.23619923e-01, 1.30484722e-01,\n",
       "        1.37349521e-01, 1.44214320e-01, 1.51079120e-01, 1.57943919e-01,\n",
       "        1.64808718e-01, 1.71673517e-01, 1.78538317e-01, 1.85403116e-01,\n",
       "        1.92267915e-01, 1.99132715e-01, 2.05997514e-01, 2.12862313e-01,\n",
       "        2.19727112e-01, 2.26591912e-01, 2.33456711e-01, 2.40321510e-01,\n",
       "        2.47186309e-01, 2.54051109e-01, 2.60915908e-01, 2.67780707e-01,\n",
       "        2.74645506e-01, 2.81510306e-01, 2.88375105e-01, 2.95239904e-01,\n",
       "        3.02104703e-01, 3.08969503e-01, 3.15834302e-01, 3.22699101e-01,\n",
       "        3.29563900e-01, 3.36428700e-01, 3.43293499e-01, 3.50158298e-01,\n",
       "        3.57023097e-01, 3.63887897e-01, 3.70752696e-01, 3.77617495e-01,\n",
       "        3.84482294e-01, 3.91347094e-01, 3.98211893e-01, 4.05076692e-01,\n",
       "        4.11941491e-01, 4.18806291e-01, 4.25671090e-01, 4.32535889e-01,\n",
       "        4.39400689e-01, 4.46265488e-01, 4.53130287e-01, 4.59995086e-01,\n",
       "        4.66859886e-01, 4.73724685e-01, 4.80589484e-01, 4.87454283e-01,\n",
       "        4.94319083e-01, 5.01183882e-01, 5.08048681e-01, 5.14913480e-01,\n",
       "        5.21778280e-01, 5.28643079e-01, 5.35507878e-01, 5.42372677e-01,\n",
       "        5.49237477e-01, 5.56102276e-01, 5.62967075e-01, 5.69831874e-01,\n",
       "        5.76696674e-01, 5.83561473e-01, 5.90426272e-01, 5.97291071e-01,\n",
       "        6.04155871e-01, 6.11020670e-01, 6.17885469e-01, 6.24750268e-01,\n",
       "        6.31615068e-01, 6.38479867e-01, 6.45344666e-01, 6.52209465e-01,\n",
       "        6.59074265e-01, 6.65939064e-01, 6.72803863e-01, 6.79668663e-01,\n",
       "        6.86533462e-01]),\n",
       " <BarContainer object of 100 artists>)"
      ]
     },
     "execution_count": 289,
     "metadata": {},
     "output_type": "execute_result"
    },
    {
     "data": {
      "image/png": "[encoded data removed]",
      "text/plain": [
       "<Figure size 640x480 with 1 Axes>"
      ]
     },
     "metadata": {},
     "output_type": "display_data"
    }
   ],
   "source": [
    "plt.hist(preds[:, 1], bins = 100)"
   ]
  },
  {
   "cell_type": "code",
   "execution_count": 290,
   "metadata": {},
   "outputs": [],
   "source": [
    "indexes_with_cetrainty = np.argsort(preds[:, 1])[:200]"
   ]
  },
  {
   "cell_type": "code",
   "execution_count": 291,
   "metadata": {},
   "outputs": [
    {
     "data": {
      "text/plain": [
       "(array([ 14.,  38.,  10.,   3.,   0.,   0.,   0.,   0.,   0.,   0.,   0.,\n",
       "          0.,   0.,   0.,   0.,   0.,   0.,   0.,   0.,   0.,   0.,   0.,\n",
       "          0.,   0.,   0.,   0.,   0.,   0.,   0.,   0.,   0.,   0.,   0.,\n",
       "          0.,   0.,   0.,   0.,   0.,   0.,   0.,   0.,   0.,   0.,   0.,\n",
       "          0.,   0.,   0.,   0.,   0.,   0.,   0.,   0.,   0.,   0.,   0.,\n",
       "          0.,   0.,   0.,   0.,   0.,   0.,   0.,   0.,   0.,   0.,   0.,\n",
       "          0.,   0.,   0.,   0.,   0.,   0.,   0.,   0.,   0.,   0.,   0.,\n",
       "          0.,   0.,   0.,   0.,   0.,   0.,   0.,   0.,   0.,   0.,   0.,\n",
       "          0.,   0.,   0.,   0.,   0.,   0.,   0.,   0.,   0.,   0.,  27.,\n",
       "        108.]),\n",
       " array([4.72223713, 4.74041335, 4.75858957, 4.77676578, 4.794942  ,\n",
       "        4.81311821, 4.83129443, 4.84947065, 4.86764686, 4.88582308,\n",
       "        4.9039993 , 4.92217551, 4.94035173, 4.95852794, 4.97670416,\n",
       "        4.99488038, 5.01305659, 5.03123281, 5.04940902, 5.06758524,\n",
       "        5.08576146, 5.10393767, 5.12211389, 5.14029011, 5.15846632,\n",
       "        5.17664254, 5.19481875, 5.21299497, 5.23117119, 5.2493474 ,\n",
       "        5.26752362, 5.28569984, 5.30387605, 5.32205227, 5.34022848,\n",
       "        5.3584047 , 5.37658092, 5.39475713, 5.41293335, 5.43110956,\n",
       "        5.44928578, 5.467462  , 5.48563821, 5.50381443, 5.52199065,\n",
       "        5.54016686, 5.55834308, 5.57651929, 5.59469551, 5.61287173,\n",
       "        5.63104794, 5.64922416, 5.66740038, 5.68557659, 5.70375281,\n",
       "        5.72192902, 5.74010524, 5.75828146, 5.77645767, 5.79463389,\n",
       "        5.8128101 , 5.83098632, 5.84916254, 5.86733875, 5.88551497,\n",
       "        5.90369119, 5.9218674 , 5.94004362, 5.95821983, 5.97639605,\n",
       "        5.99457227, 6.01274848, 6.0309247 , 6.04910092, 6.06727713,\n",
       "        6.08545335, 6.10362956, 6.12180578, 6.139982  , 6.15815821,\n",
       "        6.17633443, 6.19451064, 6.21268686, 6.23086308, 6.24903929,\n",
       "        6.26721551, 6.28539173, 6.30356794, 6.32174416, 6.33992037,\n",
       "        6.35809659, 6.37627281, 6.39444902, 6.41262524, 6.43080146,\n",
       "        6.44897767, 6.46715389, 6.4853301 , 6.50350632, 6.52168254,\n",
       "        6.53985875]),\n",
       " <BarContainer object of 100 artists>)"
      ]
     },
     "execution_count": 291,
     "metadata": {},
     "output_type": "execute_result"
    },
    {
     "data": {
      "image/png": "[encoded data removed]",
      "text/plain": [
       "<Figure size 640x480 with 1 Axes>"
      ]
     },
     "metadata": {},
     "output_type": "display_data"
    }
   ],
   "source": [
    "plt.hist(preds[:, 0][indexes_with_cetrainty], bins = 100)"
   ]
  },
  {
   "cell_type": "code",
   "execution_count": 292,
   "metadata": {},
   "outputs": [
    {
     "data": {
      "text/plain": [
       "(array([ 6.,  3.,  5.,  2.,  7.,  4., 10.,  7.,  4., 11.,  5.,  2.,  7.,\n",
       "         3.,  4.,  5.,  1.,  1.,  2.,  1.,  3.,  3.,  1.,  3.,  1.,  1.,\n",
       "         4.,  0.,  0.,  0.,  4.,  0.,  0.,  0.,  3.,  1.,  1.,  3.,  1.,\n",
       "         0.,  2.,  2.,  1.,  0.,  0.,  0.,  0.,  0.,  0.,  0.,  0.,  1.,\n",
       "         0.,  0.,  0.,  0.,  0.,  0.,  0.,  3.,  1.,  0.,  0.,  0.,  0.,\n",
       "         0.,  1.,  0.,  0.,  0.,  0.,  0.,  0.,  0.,  0.,  1.,  0.,  0.,\n",
       "         1.,  0.,  0.,  0.,  0.,  1.,  0.,  1.,  0.,  2.,  2.,  0.,  1.,\n",
       "         2.,  5.,  5.,  5.,  6.,  8., 10.,  9., 11.]),\n",
       " array([5.35360636e-05, 5.62366735e-05, 5.89372835e-05, 6.16378934e-05,\n",
       "        6.43385034e-05, 6.70391133e-05, 6.97397233e-05, 7.24403332e-05,\n",
       "        7.51409432e-05, 7.78415531e-05, 8.05421631e-05, 8.32427730e-05,\n",
       "        8.59433830e-05, 8.86439930e-05, 9.13446029e-05, 9.40452129e-05,\n",
       "        9.67458228e-05, 9.94464328e-05, 1.02147043e-04, 1.04847653e-04,\n",
       "        1.07548263e-04, 1.10248873e-04, 1.12949483e-04, 1.15650092e-04,\n",
       "        1.18350702e-04, 1.21051312e-04, 1.23751922e-04, 1.26452532e-04,\n",
       "        1.29153142e-04, 1.31853752e-04, 1.34554362e-04, 1.37254972e-04,\n",
       "        1.39955582e-04, 1.42656192e-04, 1.45356802e-04, 1.48057412e-04,\n",
       "        1.50758022e-04, 1.53458632e-04, 1.56159242e-04, 1.58859852e-04,\n",
       "        1.61560462e-04, 1.64261072e-04, 1.66961682e-04, 1.69662291e-04,\n",
       "        1.72362901e-04, 1.75063511e-04, 1.77764121e-04, 1.80464731e-04,\n",
       "        1.83165341e-04, 1.85865951e-04, 1.88566561e-04, 1.91267171e-04,\n",
       "        1.93967781e-04, 1.96668391e-04, 1.99369001e-04, 2.02069611e-04,\n",
       "        2.04770221e-04, 2.07470831e-04, 2.10171441e-04, 2.12872051e-04,\n",
       "        2.15572661e-04, 2.18273271e-04, 2.20973881e-04, 2.23674491e-04,\n",
       "        2.26375100e-04, 2.29075710e-04, 2.31776320e-04, 2.34476930e-04,\n",
       "        2.37177540e-04, 2.39878150e-04, 2.42578760e-04, 2.45279370e-04,\n",
       "        2.47979980e-04, 2.50680590e-04, 2.53381200e-04, 2.56081810e-04,\n",
       "        2.58782420e-04, 2.61483030e-04, 2.64183640e-04, 2.66884250e-04,\n",
       "        2.69584860e-04, 2.72285470e-04, 2.74986080e-04, 2.77686690e-04,\n",
       "        2.80387299e-04, 2.83087909e-04, 2.85788519e-04, 2.88489129e-04,\n",
       "        2.91189739e-04, 2.93890349e-04, 2.96590959e-04, 2.99291569e-04,\n",
       "        3.01992179e-04, 3.04692789e-04, 3.07393399e-04, 3.10094009e-04,\n",
       "        3.12794619e-04, 3.15495229e-04, 3.18195839e-04, 3.20896449e-04,\n",
       "        3.23597059e-04]),\n",
       " <BarContainer object of 100 artists>)"
      ]
     },
     "execution_count": 292,
     "metadata": {},
     "output_type": "execute_result"
    },
    {
     "data": {
      "image/png": "[encoded data removed]",
      "text/plain": [
       "<Figure size 640x480 with 1 Axes>"
      ]
     },
     "metadata": {},
     "output_type": "display_data"
    }
   ],
   "source": [
    "plt.hist(preds[:, 1][indexes_with_cetrainty], bins = 100)"
   ]
  },
  {
   "cell_type": "code",
   "execution_count": null,
   "metadata": {},
   "outputs": [],
   "source": []
  },
  {
   "cell_type": "code",
   "execution_count": 293,
   "metadata": {},
   "outputs": [
    {
     "data": {
      "text/plain": [
       "0.9328426861213669"
      ]
     },
     "execution_count": 293,
     "metadata": {},
     "output_type": "execute_result"
    }
   ],
   "source": [
    "model.score(X_test, Y_test)"
   ]
  },
  {
   "cell_type": "code",
   "execution_count": 295,
   "metadata": {},
   "outputs": [
    {
     "name": "stderr",
     "output_type": "stream",
     "text": [
      "100%|██████████| 14322/14322 [00:00<00:00, 84949.46it/s]\n",
      "100%|██████████| 14322/14322 [00:00<00:00, 86881.37it/s]\n",
      "100%|██████████| 14322/14322 [00:00<00:00, 85801.00it/s]\n",
      "100%|██████████| 14322/14322 [00:00<00:00, 88708.50it/s]\n",
      "100%|██████████| 14322/14322 [00:00<00:00, 86676.65it/s]\n",
      "100%|██████████| 14322/14322 [00:00<00:00, 85146.81it/s]\n",
      "100%|██████████| 14322/14322 [00:00<00:00, 84733.53it/s]\n",
      "100%|██████████| 14322/14322 [00:00<00:00, 84644.11it/s]\n"
     ]
    },
    {
     "data": {
      "image/png": "[encoded data removed]",
      "text/plain": [
       "<Figure size 640x480 with 1 Axes>"
      ]
     },
     "metadata": {},
     "output_type": "display_data"
    },
    {
     "data": {
      "image/png": "[encoded data removed]",
      "text/plain": [
       "<Figure size 640x480 with 1 Axes>"
      ]
     },
     "metadata": {},
     "output_type": "display_data"
    }
   ],
   "source": [
    "window_sizes = [5, 10, 15, 20, 25, 30, 35, 40]\n",
    "mean_uncertainty = []\n",
    "median_uncertainty = []\n",
    "scores = []\n",
    "\n",
    "for n in window_sizes:\n",
    "    X_train,  X_test, Y_train, Y_test, classes_train, classes_test =  make_datasets(n)\n",
    "    model = CatBoostRegressor(random_seed=42, iterations=1000, learning_rate=0.01, \n",
    "                                  loss_function='RMSEWithUncertainty', posterior_sampling=True,\n",
    "                                  verbose=False)\n",
    "    model.fit(X_train, Y_train)\n",
    "    scores.append(model.score(X_test, Y_test))\n",
    "    mean_uncertainty.append(np.mean(model.predict(X_test)[:, 1]))\n",
    "    median_uncertainty.append(np.median(model.predict(X_test)[:, 1]))\n",
    "\n",
    "plt.plot(window_sizes, scores, label = \"scores\")\n",
    "plt.legend()\n",
    "plt.show()\n",
    "plt.plot(window_sizes, mean_uncertainty, label = \"mean_uncertainty\")\n",
    "plt.plot(window_sizes, median_uncertainty, label = \"median_uncertainty\")\n",
    "plt.legend()\n",
    "plt.show()"
   ]
  },
  {
   "cell_type": "code",
   "execution_count": null,
   "metadata": {},
   "outputs": [],
   "source": []
  }
 ],
 "metadata": {
  "kernelspec": {
   "display_name": "Python 3",
   "language": "python",
   "name": "python3"
  },
  "language_info": {
   "codemirror_mode": {
    "name": "ipython",
    "version": 3
   },
   "file_extension": ".py",
   "mimetype": "text/x-python",
   "name": "python",
   "nbconvert_exporter": "python",
   "pygments_lexer": "ipython3",
   "version": "3.10.9"
  },
  "orig_nbformat": 4
 },
 "nbformat": 4,
 "nbformat_minor": 2
}
